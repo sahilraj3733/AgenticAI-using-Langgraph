{
 "cells": [
  {
   "cell_type": "code",
   "execution_count": 2,
   "id": "1dbcf470",
   "metadata": {},
   "outputs": [],
   "source": [
    "from typing import TypedDict\n",
    "from langgraph.graph import StateGraph,START,END\n"
   ]
  },
  {
   "cell_type": "code",
   "execution_count": 3,
   "id": "de52a1b9",
   "metadata": {},
   "outputs": [],
   "source": [
    "class BatsmanState(TypedDict):\n",
    "    runs: int\n",
    "    balls: int\n",
    "    fours: int\n",
    "    sixes: int\n",
    "\n",
    "    sr: float\n",
    "    bpb: float\n",
    "    boundary_percent: float\n",
    "    summary: str\n",
    "    "
   ]
  },
  {
   "cell_type": "code",
   "execution_count": 12,
   "id": "9f403e6c",
   "metadata": {},
   "outputs": [],
   "source": [
    "def calculate_strikeRate(state:BatsmanState):\n",
    "    runs=state['runs']\n",
    "    balls=state['balls']\n",
    "\n",
    "    sr=(runs/balls)*100\n",
    "    return {'sr':sr}\n",
    "\n",
    "def calculate_bpb(state:BatsmanState):\n",
    "    bpb=state['balls']/(state['fours']+state['sixes'])\n",
    "    return {'bpb':bpb}\n",
    "\n",
    "def calculate_boundryPer(state:BatsmanState):\n",
    "    bp=((state['fours']*4+state['sixes']*6)/state['runs'])*100\n",
    "    return {'boundary_percent':bp}\n",
    "\n",
    "def summary(state:BatsmanState):\n",
    "    summary = f\"\"\"\n",
    "    Strike Rate - {state['sr']} \\n\n",
    "    Balls per boundary - {state['bpb']} \\n\n",
    "    Boundary percent - {state['boundary_percent']}\n",
    "    \"\"\"\n",
    "    \n",
    "    return {'summary': summary}"
   ]
  },
  {
   "cell_type": "code",
   "execution_count": 13,
   "id": "5a038927",
   "metadata": {},
   "outputs": [],
   "source": [
    "graph=StateGraph(BatsmanState)\n",
    "\n",
    "graph.add_node('calculate_strikeRate',calculate_strikeRate)\n",
    "graph.add_node('calculate_bpb',calculate_bpb)\n",
    "graph.add_node('calculate_boundryPer',calculate_boundryPer)\n",
    "graph.add_node('summary',summary)\n",
    "\n",
    "graph.add_edge(START,'calculate_strikeRate')\n",
    "graph.add_edge(START,'calculate_bpb')\n",
    "graph.add_edge(START,'calculate_boundryPer')\n",
    "\n",
    "graph.add_edge('calculate_strikeRate','summary')\n",
    "graph.add_edge('calculate_bpb','summary')\n",
    "graph.add_edge('calculate_boundryPer','summary')\n",
    "\n",
    "graph.add_edge('summary',END)\n",
    "workflow=graph.compile()"
   ]
  },
  {
   "cell_type": "code",
   "execution_count": 14,
   "id": "df70f98f",
   "metadata": {},
   "outputs": [
    {
     "data": {
      "image/png": "[encoded data removed]",
      "text/plain": [
       "<langgraph.graph.state.CompiledStateGraph object at 0x1151d51d0>"
      ]
     },
     "execution_count": 14,
     "metadata": {},
     "output_type": "execute_result"
    }
   ],
   "source": [
    "workflow"
   ]
  },
  {
   "cell_type": "code",
   "execution_count": 15,
   "id": "c0cbde3e",
   "metadata": {},
   "outputs": [
    {
     "name": "stdout",
     "output_type": "stream",
     "text": [
      "{'runs': 100, 'balls': 50, 'fours': 6, 'sixes': 4, 'sr': 200.0, 'bpb': 5.0, 'boundary_percent': 48.0, 'summary': '\\n    Strike Rate - 200.0 \\n\\n    Balls per boundary - 5.0 \\n\\n    Boundary percent - 48.0\\n    '}\n"
     ]
    }
   ],
   "source": [
    "intial_state = {\n",
    "    'runs': 100,\n",
    "    'balls': 50,\n",
    "    'fours': 6,\n",
    "    'sixes': 4\n",
    "}\n",
    "\n",
    "output=workflow.invoke(intial_state)\n",
    "print(output)"
   ]
  },
  {
   "cell_type": "markdown",
   "id": "ba052b4a",
   "metadata": {},
   "source": [
    "## Adding LLM"
   ]
  },
  {
   "cell_type": "markdown",
   "id": "55e13ad5",
   "metadata": {},
   "source": [
    "### 1.Example 1"
   ]
  },
  {
   "cell_type": "code",
   "execution_count": 14,
   "id": "1c06c820",
   "metadata": {},
   "outputs": [],
   "source": [
    "import os\n",
    "from dotenv import load_dotenv\n",
    "load_dotenv()\n",
    "groq_api=os.getenv('groq_api')\n",
    "from langchain_groq import ChatGroq\n",
    "from pydantic import BaseModel,Field\n",
    "from typing import Annotated,TypedDict\n",
    "from langgraph.graph import StateGraph,START,END\n",
    "import operator\n"
   ]
  },
  {
   "cell_type": "code",
   "execution_count": 5,
   "id": "cc5963cd",
   "metadata": {},
   "outputs": [],
   "source": [
    "llm=ChatGroq(model='gemma2-9b-it',api_key=groq_api)\n"
   ]
  },
  {
   "cell_type": "code",
   "execution_count": 11,
   "id": "a82fc76c",
   "metadata": {},
   "outputs": [],
   "source": [
    "class UpscPractice(TypedDict):\n",
    "    essay:str\n",
    "    analysis_feedback:str\n",
    "    language_feedback:str\n",
    "    clarity_feedback:str\n",
    "    overall_feedback:str\n",
    "    individual_scores: Annotated[list[int], operator.add]\n",
    "    avg_score:float"
   ]
  },
  {
   "cell_type": "code",
   "execution_count": 8,
   "id": "549be87b",
   "metadata": {},
   "outputs": [],
   "source": [
    "class Evaluation(BaseModel):\n",
    "    feedback:str=Field(description='Detailed Feedback of easy')\n",
    "    score:int=Field('Score out of 10',le=10,ge=0)"
   ]
  },
  {
   "cell_type": "code",
   "execution_count": 10,
   "id": "1d5d7514",
   "metadata": {},
   "outputs": [],
   "source": [
    "structured_model=llm.with_structured_output(Evaluation)"
   ]
  },
  {
   "cell_type": "code",
   "execution_count": 47,
   "id": "0d4bfb12",
   "metadata": {},
   "outputs": [],
   "source": [
    "def analysis_feedback(state:UpscPractice):\n",
    "    prompt = f'Evaluate the depth of analysis of the following essay and provide a feedback and assign a score out of 10 \\n {state[\"essay\"]}'\n",
    "    output = structured_model.invoke(prompt)\n",
    "    return {'analysis_feedback':output.feedback,'individual_scores':[output.score]}\n",
    "\n",
    "def language_feedback(state:UpscPractice):\n",
    "    prompt = f'Evaluate the depth of langauge of the following essay and provide a feedback and assign a score out of 10 \\n {state[\"essay\"]}'\n",
    "    output = structured_model.invoke(prompt)\n",
    "    return {'language_feedback':output.feedback,'individual_scores':[output.score]}\n",
    "\n",
    "def clarity_feedback(state:UpscPractice):\n",
    "    prompt = f'Evaluate the thought of the clearity of the following essay and provide a feedback and assign a score out of 10 \\n {state[\"essay\"]}'\n",
    "    output = structured_model.invoke(prompt)\n",
    "    return {'clarity_feedback':output.feedback,'individual_scores':[output.score]}\n",
    "\n",
    "def overall_feedback(state:UpscPractice):\n",
    "    prompt = f'Based on the following feedbacks create a summarized feedback \\n language feedback - {state[\"language_feedback\"]} \\n depth of analysis feedback - {state[\"analysis_feedback\"]} \\n clarity of thought feedback - {state[\"clarity_feedback\"]}'\n",
    "    output = llm.invoke(prompt).content\n",
    "    avg_score = sum(state['individual_scores'])/len(state['individual_scores'])\n",
    "    return {'overall_feedback':output,'avg_score':[avg_score]}\n"
   ]
  },
  {
   "cell_type": "code",
   "execution_count": 48,
   "id": "33c22387",
   "metadata": {},
   "outputs": [],
   "source": [
    "graph=StateGraph(UpscPractice)\n",
    "\n",
    "graph.add_node('analysis_feedback',analysis_feedback)\n",
    "graph.add_node('language_feedback',language_feedback)\n",
    "graph.add_node('clarity_feedback',clarity_feedback)\n",
    "graph.add_node('overall_feedback',overall_feedback)\n",
    "\n",
    "graph.add_edge(START,'analysis_feedback')\n",
    "graph.add_edge(START,'language_feedback')\n",
    "graph.add_edge(START,'clarity_feedback')\n",
    "graph.add_edge('analysis_feedback','overall_feedback')\n",
    "graph.add_edge('language_feedback','overall_feedback')\n",
    "graph.add_edge('clarity_feedback','overall_feedback')\n",
    "\n",
    "graph.add_edge('overall_feedback',END)\n",
    "\n",
    "workflow=graph.compile()\n"
   ]
  },
  {
   "cell_type": "code",
   "execution_count": 49,
   "id": "c9610c40",
   "metadata": {},
   "outputs": [
    {
     "data": {
      "image/png": "[encoded data removed]",
      "text/plain": [
       "<langgraph.graph.state.CompiledStateGraph object at 0x11c33a850>"
      ]
     },
     "execution_count": 49,
     "metadata": {},
     "output_type": "execute_result"
    }
   ],
   "source": [
    "workflow"
   ]
  },
  {
   "cell_type": "code",
   "execution_count": 50,
   "id": "d012cf33",
   "metadata": {},
   "outputs": [],
   "source": [
    "essay1 = \"\"\"India and AI Time\n",
    "\n",
    "Now world change very fast because new tech call Artificial Intel… something (AI). India also want become big in this AI thing. If work hard, India can go top. But if no careful, India go back.\n",
    "\n",
    "India have many good. We have smart student, many engine-ear, and good IT peoples. Big company like TCS, Infosys, Wipro already use AI. Government also do program “AI for All”. It want AI in farm, doctor place, school and transport.\n",
    "\n",
    "In farm, AI help farmer know when to put seed, when rain come, how stop bug. In health, AI help doctor see sick early. In school, AI help student learn good. Government office use AI to find bad people and work fast.\n",
    "\n",
    "But problem come also. First is many villager no have phone or internet. So AI not help them. Second, many people lose job because AI and machine do work. Poor people get more bad.\n",
    "\n",
    "One more big problem is privacy. AI need big big data. Who take care? India still make data rule. If no strong rule, AI do bad.\n",
    "\n",
    "India must all people together – govern, school, company and normal people. We teach AI and make sure AI not bad. Also talk to other country and learn from them.\n",
    "\n",
    "If India use AI good way, we become strong, help poor and make better life. But if only rich use AI, and poor no get, then big bad thing happen.\n",
    "\n",
    "So, in short, AI time in India have many hope and many danger. We must go right road. AI must help all people, not only some. Then India grow big and world say \"good job India\".\"\"\"\n"
   ]
  },
  {
   "cell_type": "code",
   "execution_count": 51,
   "id": "852051fa",
   "metadata": {},
   "outputs": [],
   "source": [
    "intial_state={'essay':essay1}\n",
    "result=workflow.invoke(intial_state)"
   ]
  },
  {
   "cell_type": "code",
   "execution_count": 52,
   "id": "b65944e0",
   "metadata": {},
   "outputs": [
    {
     "data": {
      "text/plain": [
       "{'essay': 'India and AI Time\\n\\nNow world change very fast because new tech call Artificial Intel… something (AI). India also want become big in this AI thing. If work hard, India can go top. But if no careful, India go back.\\n\\nIndia have many good. We have smart student, many engine-ear, and good IT peoples. Big company like TCS, Infosys, Wipro already use AI. Government also do program “AI for All”. It want AI in farm, doctor place, school and transport.\\n\\nIn farm, AI help farmer know when to put seed, when rain come, how stop bug. In health, AI help doctor see sick early. In school, AI help student learn good. Government office use AI to find bad people and work fast.\\n\\nBut problem come also. First is many villager no have phone or internet. So AI not help them. Second, many people lose job because AI and machine do work. Poor people get more bad.\\n\\nOne more big problem is privacy. AI need big big data. Who take care? India still make data rule. If no strong rule, AI do bad.\\n\\nIndia must all people together – govern, school, company and normal people. We teach AI and make sure AI not bad. Also talk to other country and learn from them.\\n\\nIf India use AI good way, we become strong, help poor and make better life. But if only rich use AI, and poor no get, then big bad thing happen.\\n\\nSo, in short, AI time in India have many hope and many danger. We must go right road. AI must help all people, not only some. Then India grow big and world say \"good job India\".',\n",
       " 'analysis_feedback': 'This essay highlights the potential benefits and risks of AI in India. It touches on key areas like agriculture, healthcare, education, and job displacement.  The essay also acknowledges the importance of data privacy and the need for inclusive AI development. However, the analysis lacks depth and could benefit from more specific examples and a stronger argument structure.',\n",
       " 'language_feedback': 'The essay explores the potential benefits and risks of AI in India, highlighting its impact on agriculture, healthcare, education, and governance. While acknowledging the positive aspects like improved efficiency and problem-solving, it also raises concerns about job displacement, digital divide, and privacy issues. The language is simple and direct, suitable for a general audience. However, it lacks depth in analyzing the complexities of AI development and its ethical implications.',\n",
       " 'clarity_feedback': 'The essay presents a basic overview of the potential benefits and risks of AI in India. It touches on important points like education, healthcare, agriculture, and job displacement. However, the writing is simplistic and lacks depth in analyzing the complexities of these issues. The essay also fails to provide concrete examples or evidence to support its claims.',\n",
       " 'overall_feedback': \"The essay provides a surface-level overview of AI's potential benefits and risks in India, covering areas like agriculture, healthcare, education, and job displacement.  While it acknowledges both positive and negative aspects, the analysis lacks depth and relies on general statements without specific examples or evidence. \\n\\nTo improve, the essay should:\\n\\n* **Deepen the analysis:** Explore the complexities of AI development and its ethical implications in more detail.\\n* **Provide concrete examples:**  Illustrate the points made with specific examples of how AI is impacting different sectors in India.\\n* **Strengthen the argument structure:**  Develop a clearer and more persuasive argument by connecting ideas logically and providing supporting evidence. \\n\\n\\nBy addressing these points, the essay can move beyond a basic overview and offer a more insightful and compelling exploration of AI's role in India. \\n\",\n",
       " 'individual_scores': [6, 5, 6],\n",
       " 'avg_score': [5.666666666666667]}"
      ]
     },
     "execution_count": 52,
     "metadata": {},
     "output_type": "execute_result"
    }
   ],
   "source": [
    "result"
   ]
  },
  {
   "cell_type": "code",
   "execution_count": null,
   "id": "ea3939fe",
   "metadata": {},
   "outputs": [],
   "source": []
  }
 ],
 "metadata": {
  "kernelspec": {
   "display_name": "myenv",
   "language": "python",
   "name": "python3"
  },
  "language_info": {
   "codemirror_mode": {
    "name": "ipython",
    "version": 3
   },
   "file_extension": ".py",
   "mimetype": "text/x-python",
   "name": "python",
   "nbconvert_exporter": "python",
   "pygments_lexer": "ipython3",
   "version": "3.13.5"
  }
 },
 "nbformat": 4,
 "nbformat_minor": 5
}
