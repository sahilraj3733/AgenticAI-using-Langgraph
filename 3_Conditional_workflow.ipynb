{
 "cells": [
  {
   "cell_type": "code",
   "execution_count": 3,
   "id": "541b6073",
   "metadata": {},
   "outputs": [],
   "source": [
    "from langgraph.graph import StateGraph,START,END\n",
    "from typing import TypedDict,Literal\n"
   ]
  },
  {
   "cell_type": "code",
   "execution_count": 2,
   "id": "8f694b8e",
   "metadata": {},
   "outputs": [],
   "source": [
    "class QuardState(TypedDict):\n",
    "    a:int\n",
    "    b:int\n",
    "    c:int\n",
    "    equation: str\n",
    "    discriminant: float\n",
    "    result: str\n"
   ]
  },
  {
   "cell_type": "code",
   "execution_count": 6,
   "id": "6a0093ee",
   "metadata": {},
   "outputs": [],
   "source": [
    "def equation(state:QuardState):\n",
    "    a=state['a']\n",
    "    b=state['b']\n",
    "    c=state['c']\n",
    "    return {'equation':'f{a}X^2+{b}X+{c}'}\n",
    "def calculate_d(state:QuardState):\n",
    "    dis=state['b']**2-(4*state['a']*state['c'])\n",
    "    return {'discriminant':dis}\n",
    "\n",
    "def real_roots(state:QuardState):\n",
    "    root1 = (-state[\"b\"] + state[\"discriminant\"]**0.5)/(2*state[\"a\"])\n",
    "    root2 = (-state[\"b\"] - state[\"discriminant\"]**0.5)/(2*state[\"a\"])\n",
    "\n",
    "    result = f'The roots are {root1} and {root2}'\n",
    "\n",
    "    return {'result': result}\n",
    "\n",
    "def repeated_roots(state: QuardState):\n",
    "\n",
    "    root = (-state[\"b\"])/(2*state[\"a\"])\n",
    "\n",
    "    result = f'Only repeating root is {root}'\n",
    "\n",
    "    return {'result': result}\n",
    "\n",
    "def no_real_roots(state: QuardState):\n",
    "\n",
    "    result = f'No real roots'\n",
    "\n",
    "    return {'result': result}\n",
    "\n",
    "def check_condition(state:QuardState)->Literal[\"real_roots\", \"repeated_roots\", \"no_real_roots\"]:\n",
    "\n",
    "    if state['discriminant'] > 0:\n",
    "        return \"real_roots\"\n",
    "    elif state['discriminant'] == 0:\n",
    "        return \"repeated_roots\"\n",
    "    else:\n",
    "        return \"no_real_roots\""
   ]
  },
  {
   "cell_type": "code",
   "execution_count": 8,
   "id": "17fed202",
   "metadata": {},
   "outputs": [],
   "source": [
    "graph=StateGraph(QuardState)\n",
    "\n",
    "graph.add_node('equation',equation)\n",
    "graph.add_node('calculate_d',calculate_d)\n",
    "graph.add_node('real_roots', real_roots)\n",
    "graph.add_node('repeated_roots', repeated_roots)\n",
    "graph.add_node('no_real_roots', no_real_roots)\n",
    "\n",
    "graph.add_edge(START,'equation')\n",
    "graph.add_edge('equation','calculate_d')\n",
    "graph.add_conditional_edges('calculate_d',check_condition)\n",
    "graph.add_edge('real_roots', END)\n",
    "graph.add_edge('repeated_roots', END)\n",
    "graph.add_edge('no_real_roots', END)\n",
    "\n",
    "workflow=graph.compile()"
   ]
  },
  {
   "cell_type": "code",
   "execution_count": 9,
   "id": "c2b4918c",
   "metadata": {},
   "outputs": [
    {
     "data": {
      "image/png": "[encoded data removed]",
      "text/plain": [
       "<langgraph.graph.state.CompiledStateGraph object at 0x115621be0>"
      ]
     },
     "execution_count": 9,
     "metadata": {},
     "output_type": "execute_result"
    }
   ],
   "source": [
    "workflow"
   ]
  },
  {
   "cell_type": "code",
   "execution_count": 10,
   "id": "24a4f823",
   "metadata": {},
   "outputs": [
    {
     "data": {
      "text/plain": [
       "{'a': 2,\n",
       " 'b': 4,\n",
       " 'c': 2,\n",
       " 'equation': 'f{a}X^2+{b}X+{c}',\n",
       " 'discriminant': 0,\n",
       " 'result': 'Only repeating root is -1.0'}"
      ]
     },
     "execution_count": 10,
     "metadata": {},
     "output_type": "execute_result"
    }
   ],
   "source": [
    "initial_state = {\n",
    "    'a': 2, \n",
    "    'b': 4,\n",
    "    'c': 2\n",
    "}\n",
    "\n",
    "workflow.invoke(initial_state)"
   ]
  },
  {
   "cell_type": "markdown",
   "id": "aefa926c",
   "metadata": {},
   "source": [
    "## Review Reply using llm"
   ]
  },
  {
   "cell_type": "code",
   "execution_count": 13,
   "id": "b3d4b2e8",
   "metadata": {},
   "outputs": [],
   "source": [
    "from langchain_groq import ChatGroq\n",
    "import os\n",
    "from dotenv import load_dotenv\n",
    "load_dotenv()\n",
    "groq_api=os.getenv('groq_api')\n",
    "llm=ChatGroq(model='gemma2-9b-it',api_key=groq_api)\n",
    "\n",
    "from pydantic import BaseModel,Field"
   ]
  },
  {
   "cell_type": "code",
   "execution_count": 51,
   "id": "78bb0e21",
   "metadata": {},
   "outputs": [],
   "source": [
    "class sentimentSchema(BaseModel):\n",
    "    sentiment:Literal['positive','negative']=Field(description='Sentiment of the review')"
   ]
  },
  {
   "cell_type": "code",
   "execution_count": 37,
   "id": "d611beac",
   "metadata": {},
   "outputs": [],
   "source": [
    "class DiagnosisSchema(BaseModel):\n",
    "    issue_type: Literal[\"UX\", \"Performance\", \"Bug\", \"Support\", \"Other\"] = Field(description='The category of issue mentioned in the review')\n",
    "    tone: Literal[\"angry\", \"frustrated\", \"disappointed\", \"calm\"] = Field(description='The emotional tone expressed by the user')\n",
    "    urgency: Literal[\"low\", \"medium\", \"high\"] = Field(description='How urgent or critical the issue appears to be')"
   ]
  },
  {
   "cell_type": "code",
   "execution_count": 52,
   "id": "95066c53",
   "metadata": {},
   "outputs": [],
   "source": [
    "structured_model = llm.with_structured_output(sentimentSchema)\n",
    "structured_model2 = llm.with_structured_output(DiagnosisSchema)"
   ]
  },
  {
   "cell_type": "code",
   "execution_count": 54,
   "id": "0a64df3b",
   "metadata": {},
   "outputs": [],
   "source": [
    "class ReviewState(TypedDict):\n",
    "\n",
    "    review: str\n",
    "    sentiment: Literal[\"positive\", \"negative\"]\n",
    "    diagnosis: dict\n",
    "    response: str"
   ]
  },
  {
   "cell_type": "code",
   "execution_count": 86,
   "id": "7e531581",
   "metadata": {},
   "outputs": [],
   "source": [
    "def find_sentiment(state:ReviewState):\n",
    "    review=state['review']\n",
    "    prompt=f'what is the sentiment of this review \\n {review}'\n",
    "    output=structured_model.invoke(prompt).sentiment\n",
    "    return {'sentiment':output}\n",
    "\n",
    "def diagnosis_review(state:ReviewState):\n",
    "    review=state['review']\n",
    "    prompt=f\"Find out issue type, tone and urgency of this negative sentiment review \\n{review}\"\n",
    "    output=structured_model2.invoke(prompt)\n",
    "    return {'diagnosis':output}\n",
    "\n",
    "def negative_response(state:ReviewState):\n",
    "    diagnosis = state['diagnosis']\n",
    "    \n",
    "    prompt = f\"\"\"You are a support assistant.\n",
    "    The user had a '{diagnosis.issue_type}' issue, sounded '{diagnosis.tone}', and marked urgency as '{diagnosis.urgency}'.\n",
    "    Write an empathetic, helpful resolution message.\n",
    "    \"\"\"\n",
    "    output=llm.invoke(prompt).content\n",
    "    return {'response':output}\n",
    "\n",
    "def positive_response(state: ReviewState):\n",
    "\n",
    "    prompt = f\"\"\"Write a warm thank-you message in response to this review:\n",
    "    \\n\\n\\\"{state['review']}\\\"\\n\n",
    "    Also, kindly ask the user to leave feedback on our website.\"\"\"\n",
    "    \n",
    "    response = llm.invoke(prompt).content\n",
    "\n",
    "    return {'response': response}\n",
    "\n",
    "def check_condition(state:ReviewState)->Literal[\"positive_response\",\"diagnosis_review\"]:\n",
    "    if(state['sentiment']=='positive'):\n",
    "        return 'positive_response'\n",
    "    else:\n",
    "        return 'diagnosis_review'\n",
    "    \n",
    "\n",
    "\n"
   ]
  },
  {
   "cell_type": "code",
   "execution_count": 87,
   "id": "676eddaa",
   "metadata": {},
   "outputs": [],
   "source": [
    "graph=StateGraph(ReviewState)\n",
    "\n",
    "graph.add_node('find_sentiment',find_sentiment)\n",
    "graph.add_node('diagnosis_review',diagnosis_review)\n",
    "graph.add_node('negative_response',negative_response)\n",
    "graph.add_node('positive_response',positive_response)\n",
    "\n",
    "graph.add_edge(START,'find_sentiment')\n",
    "graph.add_conditional_edges('find_sentiment',check_condition)\n",
    "graph.add_edge('positive_response',END)\n",
    "graph.add_edge('diagnosis_review','negative_response')\n",
    "graph.add_edge('negative_response',END)\n",
    "\n",
    "\n",
    "workflow=graph.compile()"
   ]
  },
  {
   "cell_type": "code",
   "execution_count": 88,
   "id": "747bffc7",
   "metadata": {},
   "outputs": [
    {
     "data": {
      "image/png": "[encoded data removed]",
      "text/plain": [
       "<langgraph.graph.state.CompiledStateGraph object at 0x1169ac050>"
      ]
     },
     "execution_count": 88,
     "metadata": {},
     "output_type": "execute_result"
    }
   ],
   "source": [
    "workflow"
   ]
  },
  {
   "cell_type": "code",
   "execution_count": null,
   "id": "f8613fac",
   "metadata": {},
   "outputs": [],
   "source": []
  },
  {
   "cell_type": "code",
   "execution_count": 89,
   "id": "df109394",
   "metadata": {},
   "outputs": [
    {
     "data": {
      "text/plain": [
       "{'review': 'I’ve been trying to log in for over an hour now, and the app keeps freezing on the authentication screen. I even tried reinstalling it, but no luck. This kind of bug is unacceptable, especially when it affects basic functionality.',\n",
       " 'sentiment': 'negative',\n",
       " 'diagnosis': DiagnosisSchema(issue_type='Bug', tone='angry', urgency='high'),\n",
       " 'response': \"I understand you're frustrated with this bug and that it's causing a high level of urgency. I'm so sorry for the trouble it's causing! \\n\\nI want to help get this resolved for you as quickly as possible. To do that, could you please tell me a little more about the bug?  \\n\\nFor example:\\n\\n* What exactly is happening? \\n* What were you trying to do when the bug occurred?\\n* What steps have you already taken to try and fix it?\\n\\nThe more details you can provide, the better I can understand the issue and find a solution.  I'm here to work with you to get this sorted out. 😊  \\n\\n\"}"
      ]
     },
     "execution_count": 89,
     "metadata": {},
     "output_type": "execute_result"
    }
   ],
   "source": [
    "intial_state={\n",
    "    'review': \"I’ve been trying to log in for over an hour now, and the app keeps freezing on the authentication screen. I even tried reinstalling it, but no luck. This kind of bug is unacceptable, especially when it affects basic functionality.\"\n",
    "}\n",
    "workflow.invoke(intial_state)"
   ]
  },
  {
   "cell_type": "code",
   "execution_count": null,
   "id": "a350e0aa",
   "metadata": {},
   "outputs": [],
   "source": []
  }
 ],
 "metadata": {
  "kernelspec": {
   "display_name": "myenv",
   "language": "python",
   "name": "python3"
  },
  "language_info": {
   "codemirror_mode": {
    "name": "ipython",
    "version": 3
   },
   "file_extension": ".py",
   "mimetype": "text/x-python",
   "name": "python",
   "nbconvert_exporter": "python",
   "pygments_lexer": "ipython3",
   "version": "3.13.5"
  }
 },
 "nbformat": 4,
 "nbformat_minor": 5
}
