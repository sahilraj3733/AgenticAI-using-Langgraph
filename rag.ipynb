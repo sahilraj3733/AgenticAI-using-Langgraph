{
 "cells": [
  {
   "cell_type": "code",
   "execution_count": 17,
   "id": "87983fd2",
   "metadata": {},
   "outputs": [
    {
     "name": "stderr",
     "output_type": "stream",
     "text": [
      "huggingface/tokenizers: The current process just got forked, after parallelism has already been used. Disabling parallelism to avoid deadlocks...\n",
      "To disable this warning, you can either:\n",
      "\t- Avoid using `tokenizers` before the fork if possible\n",
      "\t- Explicitly set the environment variable TOKENIZERS_PARALLELISM=(true | false)\n"
     ]
    },
    {
     "name": "stdout",
     "output_type": "stream",
     "text": [
      "Collecting tavily-python\n",
      "  Downloading tavily_python-0.7.10-py3-none-any.whl.metadata (7.5 kB)\n",
      "Requirement already satisfied: requests in /Users/sahilraj/Desktop/Agentic_ai/myenv/lib/python3.13/site-packages (from tavily-python) (2.32.4)\n",
      "Collecting tiktoken>=0.5.1 (from tavily-python)\n",
      "  Downloading tiktoken-0.11.0-cp313-cp313-macosx_11_0_arm64.whl.metadata (6.7 kB)\n",
      "Requirement already satisfied: httpx in /Users/sahilraj/Desktop/Agentic_ai/myenv/lib/python3.13/site-packages (from tavily-python) (0.28.1)\n",
      "Requirement already satisfied: regex>=2022.1.18 in /Users/sahilraj/Desktop/Agentic_ai/myenv/lib/python3.13/site-packages (from tiktoken>=0.5.1->tavily-python) (2025.7.34)\n",
      "Requirement already satisfied: charset_normalizer<4,>=2 in /Users/sahilraj/Desktop/Agentic_ai/myenv/lib/python3.13/site-packages (from requests->tavily-python) (3.4.2)\n",
      "Requirement already satisfied: idna<4,>=2.5 in /Users/sahilraj/Desktop/Agentic_ai/myenv/lib/python3.13/site-packages (from requests->tavily-python) (3.10)\n",
      "Requirement already satisfied: urllib3<3,>=1.21.1 in /Users/sahilraj/Desktop/Agentic_ai/myenv/lib/python3.13/site-packages (from requests->tavily-python) (2.5.0)\n",
      "Requirement already satisfied: certifi>=2017.4.17 in /Users/sahilraj/Desktop/Agentic_ai/myenv/lib/python3.13/site-packages (from requests->tavily-python) (2025.8.3)\n",
      "Requirement already satisfied: anyio in /Users/sahilraj/Desktop/Agentic_ai/myenv/lib/python3.13/site-packages (from httpx->tavily-python) (4.10.0)\n",
      "Requirement already satisfied: httpcore==1.* in /Users/sahilraj/Desktop/Agentic_ai/myenv/lib/python3.13/site-packages (from httpx->tavily-python) (1.0.9)\n",
      "Requirement already satisfied: h11>=0.16 in /Users/sahilraj/Desktop/Agentic_ai/myenv/lib/python3.13/site-packages (from httpcore==1.*->httpx->tavily-python) (0.16.0)\n",
      "Requirement already satisfied: sniffio>=1.1 in /Users/sahilraj/Desktop/Agentic_ai/myenv/lib/python3.13/site-packages (from anyio->httpx->tavily-python) (1.3.1)\n",
      "Downloading tavily_python-0.7.10-py3-none-any.whl (15 kB)\n",
      "Downloading tiktoken-0.11.0-cp313-cp313-macosx_11_0_arm64.whl (997 kB)\n",
      "\u001b[2K   \u001b[90m━━━━━━━━━━━━━━━━━━━━━━━━━━━━━━━━━━━━━━━━\u001b[0m \u001b[32m997.1/997.1 kB\u001b[0m \u001b[31m3.0 MB/s\u001b[0m eta \u001b[36m0:00:00\u001b[0m-:--:--\u001b[0m\n",
      "\u001b[?25hInstalling collected packages: tiktoken, tavily-python\n",
      "\u001b[2K   \u001b[90m━━━━━━━━━━━━━━━━━━━━━━━━━━━━━━━━━━━━━━━━\u001b[0m \u001b[32m2/2\u001b[0m [tavily-python]\n",
      "\u001b[1A\u001b[2KSuccessfully installed tavily-python-0.7.10 tiktoken-0.11.0\n",
      "\n",
      "\u001b[1m[\u001b[0m\u001b[34;49mnotice\u001b[0m\u001b[1;39;49m]\u001b[0m\u001b[39;49m A new release of pip is available: \u001b[0m\u001b[31;49m25.1.1\u001b[0m\u001b[39;49m -> \u001b[0m\u001b[32;49m25.2\u001b[0m\n",
      "\u001b[1m[\u001b[0m\u001b[34;49mnotice\u001b[0m\u001b[1;39;49m]\u001b[0m\u001b[39;49m To update, run: \u001b[0m\u001b[32;49mpip install --upgrade pip\u001b[0m\n",
      "Note: you may need to restart the kernel to use updated packages.\n"
     ]
    }
   ],
   "source": [
    "pip install tavily-python"
   ]
  },
  {
   "cell_type": "code",
   "execution_count": null,
   "id": "88f93083",
   "metadata": {},
   "outputs": [],
   "source": [
    "import os\n",
    "from dotenv import load_dotenv\n",
    "load_dotenv()\n",
    "api_key=os.getenv('groq_api')\n",
    "travly=os.getenv('travly')\n",
    "os.environ[\"TAVILY_API_KEY\"] = travly\n",
    "\n",
    "\n",
    "from typing import Annotated,TypedDict,Sequence\n",
    "from langchain_core.messages import BaseMessage,SystemMessage,HumanMessage\n",
    "from langgraph.graph.message import add_messages\n",
    "from langchain_groq import ChatGroq\n",
    "from langgraph.graph import StateGraph,END,START\n",
    "# The tools our agent can use\n",
    "from langchain_core.tools import tool\n",
    "from langgraph.prebuilt import ToolNode\n",
    "\n"
   ]
  },
  {
   "cell_type": "code",
   "execution_count": 101,
   "id": "482d2387",
   "metadata": {},
   "outputs": [],
   "source": [
    "from langchain_core.prompts import PromptTemplate\n",
    "from langchain_core.runnables import RunnablePassthrough\n",
    "from langchain_core.output_parsers import StrOutputParser\n",
    "from langchain_community.document_loaders import WebBaseLoader\n",
    "from langchain_community.vectorstores import FAISS\n",
    "from langchain.text_splitter import RecursiveCharacterTextSplitter\n",
    "from langchain_huggingface import HuggingFaceEmbeddings\n",
    "from langchain_groq import ChatGroq\n",
    "\n",
    "# Setup the LLM\n",
    "# Use a smaller, faster model for the tool, and a larger one for the main agent\n",
    "llm = ChatGroq(api_key=api_key,model=\"Gemma2-9b-It\", temperature=0)\n",
    "\n",
    "# 1. Load and process the documents for our RAG tool\n",
    "loader = WebBaseLoader(\"https://lilianweng.github.io/posts/2023-06-23-agent/\")\n",
    "docs = loader.load()\n",
    "text_splitter = RecursiveCharacterTextSplitter(chunk_size=500, chunk_overlap=100)\n",
    "all_splits = text_splitter.split_documents(docs)\n",
    "embedding_model = HuggingFaceEmbeddings(model_name=\"BAAI/bge-small-en-v1.5\")\n",
    "vectorstore = FAISS.from_documents(documents=all_splits, embedding=embedding_model)\n",
    "retriever = vectorstore.as_retriever(k=4)\n",
    "\n",
    "# 2. Create the RAG prompt\n",
    "rag_prompt = PromptTemplate(\n",
    "    template=\"\"\"Use the following context to answer the question. \n",
    "    If you don't know the answer from the context, say that you cannot find the answer in the documents.\n",
    "\n",
    "Context: {context}\n",
    "Question: {question}\n",
    "Answer:\"\"\",\n",
    "    input_variables=[\"context\", \"question\"],\n",
    ")\n",
    "\n",
    "# 3. Create the RAG chain\n",
    "rag_chain = (\n",
    "    {\"context\": retriever, \"question\": RunnablePassthrough()}\n",
    "    | rag_prompt\n",
    "    | llm\n",
    "    | StrOutputParser()\n",
    ")\n",
    "\n",
    "# You can test it: rag_chain.invoke(\"What are the components of an LLM-powered agent?\")"
   ]
  },
  {
   "cell_type": "code",
   "execution_count": 102,
   "id": "44c5eed9",
   "metadata": {},
   "outputs": [
    {
     "data": {
      "text/plain": [
       "'According to the text, the components of an LLM-powered agent are:\\n\\n* **Planning:** This includes subgoal decomposition and self-reflection.\\n* **Memory:**  This has both short-term memory (in-context learning) and long-term memory (often using an external vector store).\\n* **Tool use:** The agent can call external APIs for information not included in its model weights. \\n\\n\\n'"
      ]
     },
     "execution_count": 102,
     "metadata": {},
     "output_type": "execute_result"
    }
   ],
   "source": [
    "rag_chain.invoke(\"What are the components of an LLM-powered agent?\")"
   ]
  },
  {
   "cell_type": "code",
   "execution_count": 95,
   "id": "3c9153d3",
   "metadata": {},
   "outputs": [],
   "source": [
    "from langchain.tools import tool\n",
    "\n",
    "@tool\n",
    "def rag_tool(query: str) -> str:\n",
    "    \"\"\"Searches and answers questions about AI agent systems and their components based on a specific blog post.\"\"\"\n",
    "    return rag_chain.invoke(query)"
   ]
  },
  {
   "cell_type": "code",
   "execution_count": null,
   "id": "f3aa47ca",
   "metadata": {},
   "outputs": [],
   "source": [
    "from typing import Annotated\n",
    "from typing_extensions import TypedDict\n",
    "from langchain_core.messages import BaseMessage\n",
    "from langgraph.graph import StateGraph, END\n",
    "from langgraph.graph.message import add_messages\n",
    "from langgraph.prebuilt import ToolNode\n",
    "from langchain_community.tools.tavily_search import TavilySearchResults\n",
    "\n",
    "# The list of tools for our main agent\n",
    "web_search_tool = TavilySearchResults(max_results=2)\n",
    "tools = [rag_tool, web_search_tool]\n",
    "\n",
    "# The main agent's state\n",
    "class AgentState(TypedDict):\n",
    "    messages: Annotated[list[BaseMessage], add_messages]\n",
    "\n",
    "# The main agent model (can be a more powerful one)\n",
    "agent_model = ChatGroq(api_key=api_key,model=\"Gemma2-9b-It\", temperature=0).bind_tools(tools)\n",
    "\n",
    "# The graph nodes are the same as our previous ReAct agent\n",
    "def call_model(state: AgentState):\n",
    "    \"\"\"Calls the agent model.\"\"\"\n",
    "    messages = state[\"messages\"]\n",
    "    response = agent_model.invoke(messages)\n",
    "    return {\"messages\": [response]}\n",
    "\n",
    "call_tool = ToolNode(tools=tools)\n",
    "\n",
    "# The conditional edge is also the same\n",
    "def should_continue(state: AgentState):\n",
    "    \"\"\"Decides whether to continue or end.\"\"\"\n",
    "    if state[\"messages\"][-1].tool_calls:\n",
    "        return \"continue\"\n",
    "    return \"end\"\n",
    "\n",
    "# Assemble the graph\n",
    "graph = StateGraph(AgentState)\n",
    "graph.add_node(\"agent\", call_model)\n",
    "graph.add_node(\"action\", call_tool)\n",
    "graph.set_entry_point(\"agent\")\n",
    "graph.add_conditional_edges(\"agent\", should_continue, {\"continue\": \"action\", \"end\": END})\n",
    "graph.add_edge(\"action\", \"agent\")\n",
    "app = graph.compile()"
   ]
  },
  {
   "cell_type": "code",
   "execution_count": 104,
   "id": "38c92a7b",
   "metadata": {},
   "outputs": [
    {
     "data": {
      "image/png": "[encoded data removed]",
      "text/plain": [
       "<langgraph.graph.state.CompiledStateGraph object at 0x374e87100>"
      ]
     },
     "execution_count": 104,
     "metadata": {},
     "output_type": "execute_result"
    }
   ],
   "source": [
    "app"
   ]
  },
  {
   "cell_type": "code",
   "execution_count": 107,
   "id": "8c37bec3",
   "metadata": {},
   "outputs": [
    {
     "name": "stdout",
     "output_type": "stream",
     "text": [
      "================================\u001b[1m Human Message \u001b[0m=================================\n",
      "\n",
      "Hi there, my name is Sahil. How are you?\n",
      "---\n",
      "==================================\u001b[1m Ai Message \u001b[0m==================================\n",
      "Tool Calls:\n",
      "  tavily_search_results_json (drv7sr477)\n",
      " Call ID: drv7sr477\n",
      "  Args:\n",
      "    query: How are you?\n",
      "---\n",
      "=================================\u001b[1m Tool Message \u001b[0m=================================\n",
      "Name: tavily_search_results_json\n",
      "\n",
      "[{\"title\": \"What do you mean when you ask \\\"How are you?\\\"\", \"url\": \"https://english.stackexchange.com/questions/166153/what-do-you-mean-when-you-ask-how-are-you\", \"content\": \"The other answers are great, but I'd like to add that in Transactional Analysis the \\\"how are you?\\\" exchange is classified as a Ritual. \\\"How are you?\\\" is a way of giving and getting a basic attention and recognition, a way which is highly ritualised e.g. happens almost automatically and in a predefined fashion. [...] What do you mean when you ask this question? What answer do you want to hear?\\n\\ntchrist's user avatar\\nDmytro's user avatar\\n\\n## 11 Answers 11\\n\\nContext is key. That being said, in most cases, in American English at least, \\\"How are you?\\\" just means \\\"Hello.\\\" Not even a formal \\\"fine\\\" response is required. It would not be uncommon to hear two Americans have this conversation:\\n\\nJoe, how are you?\\n\\nNate, how are you doing?\\n\\nor\\n\\nJoe how are you?\\n\\nNate, good to see you. [...] The person asking \\\"How are you?\\\" is not trying to probe the depths of your health or your psyche; he or she is just making polite conversation. If they really want to know something, they will say something along the lines of:\\n\\nI haven't seen you in ages. What have you been up to?\\n\\nor\\n\\nI heard about your husband. How are you holding up?\\n\\nCommunity's user avatar\\nchapka's user avatar\\n\\nIt depends on who asks the question. In casual conversation, people expect the response: \\\"Fine, how are you?\\\"\", \"score\": 0.854509}, {\"title\": \"How to reply to “How are you?” or “How have you been?”\", \"url\": \"https://weshouldgettogether.com/blog/how-to-reply-to-how-are-you\", \"content\": \"🟢 It’s a green flag if the other person responds with something like, “Ooh, say more!” That shows that they really do care about what’s going on with you and they know how to express curiosity about other people. Make sure to offer them the same in return after you’re done talking about yourself.\\n\\n### Answers to “How are you?”… when you’re keeping it simple, upbeat, and brief\\n\\n1.   I’m feeling shiny and optimistic. What are a couple words for how you’re feeling? [...] The American “how are you?” habit has a predetermined scripted answer. That answer is some variation of: “I’m fine/good. How are you?”. In fact, it’s so ingrained in American culture, that English tutors who help people from other countries prepare for life in the States warn them that when they come to the U.S., people will ask “how are you?” all the time but they don’t really care about the answer, so don’t get your feelings hurt if they don’t want to listen to an earnest answer. 🙃 [...] 6.   I feel like I’ve been in a flood, a fire, and a tornado all at once.Ask me anything.\\n\\n7.   Honestly, pretty crappy. Thanks for checking on me. I can share more if you’re open to it, but no pressure.\\n\\nImage 7\\n\\n### Answers to “How are you?”… when you’re not doing well but prefer to keep it brief\\n\\n1.   Standing in the rain, and looking for a rainbow.\\n\\n2.   Definitely not awesome, but I’m hanging in there.\\n\\n3.   Craptastic, but I’m trying to keep my sense of humor.\", \"score\": 0.78670514}]\n",
      "---\n",
      "==================================\u001b[1m Ai Message \u001b[0m==================================\n",
      "\n",
      "I am an AI assistant, so I don't have feelings.  How can I help you?\n",
      "---\n"
     ]
    }
   ],
   "source": [
    "from langchain_core.messages import HumanMessage\n",
    "\n",
    "# Scenario A\n",
    "inputs = {\"messages\": [HumanMessage(content=\"Hi there, my name is Sahil. How are you?\")]}\n",
    "\n",
    "for event in app.stream(inputs, stream_mode=\"values\"):\n",
    "    event[\"messages\"][-1].pretty_print()\n",
    "    print(\"---\")"
   ]
  },
  {
   "cell_type": "code",
   "execution_count": 109,
   "id": "b66cceb3",
   "metadata": {},
   "outputs": [
    {
     "name": "stdout",
     "output_type": "stream",
     "text": [
      "================================\u001b[1m Human Message \u001b[0m=================================\n",
      "\n",
      "who won last aus vs sa t20 match\n",
      "---\n",
      "==================================\u001b[1m Ai Message \u001b[0m==================================\n",
      "Tool Calls:\n",
      "  tavily_search_results_json (d74ak8emt)\n",
      " Call ID: d74ak8emt\n",
      "  Args:\n",
      "    query: who won last aus vs sa t20 match\n",
      "---\n",
      "=================================\u001b[1m Tool Message \u001b[0m=================================\n",
      "Name: tavily_search_results_json\n",
      "\n",
      "[{\"title\": \"Australia beat South Africa by 17 runs, take 1-0 lead in three-match ...\", \"url\": \"https://timesofindia.indiatimes.com/sports/cricket/aus-vs-sa-live-score-today-cricket-match-australia-vs-south-africa-1st-t20i-live-updates-scorecard-travis-head-aiden-markram/liveblog/123216145.cms\", \"content\": \"Both teams entered the series with strong line-ups and fresh momentum, with South Africa focused on moving past their recent World Test Championship defeat to Australia. The match represented the start of a critical build-up to the 2026 T20 World Cup, showcasing exciting young talents and the evolving nature of international T20 cricket. With unknown pitch conditions and high stakes, the stage was set for a thrilling contest. [...] Australia vs South Africa Live Score, 1st T20I: The first T20 International between Australia and South Africa at Marrara Stadium in Darwin marked an exciting start to their 3-match series, kicking off the road to the 2026 T20 World Cup. After a long gap of 17 years since international cricket was last played in Darwin, the stadium was buzzing with anticipation for a thrilling clash between two formidable teams in the shortest format. [...] Australia vs South Africa Live Score, 1st T20I: The first T20 International between Australia and South Africa at Darwin’s Marrara Stadium saw South Africa win the toss and opt to bowl first. The venue was hosting international cricket after 17 years, adding a special atmosphere to the match. South Africa’s captain Aiden Markram noted the unfamiliarity with the pitch but was confident in his team’s balanced bowling attack and the return of key players like Kagiso Rabada and Ryan Rickelton.\", \"score\": 0.7900289}, {\"title\": \"AUS vs SA: Australia storm to ninth T20I win in a row; India and ...\", \"url\": \"https://timesofindia.indiatimes.com/sports/cricket/news/aus-vs-sa-australia-storm-to-ninth-t20i-win-in-a-row-india-and-afghanistan-still-out-of-reach/articleshow/123226491.cms\", \"content\": \"TOI logo\\n\\n## TOI\\n\\n#### Metro Cities\\n\\n#### Other Cities\\n\\n# AUS vs SA: Australia storm to ninth T20I win in a row; India and Afghanistan still out of reach\\n\\nAUS vs SA: Australia storm to ninth T20I win in a row; India and Afghanistan still out of reach\\\")\\nauthor\\n\\n##### About the Author [...] The TOI Sports Desk excels in a myriad of roles that capture the essence of live sporting events and deliver compelling content to readers worldwide. [...] We deliver accurate, engaging, and up-to-the-minute sports content, round the clock.Read More\", \"score\": 0.56690645}]\n",
      "---\n",
      "==================================\u001b[1m Ai Message \u001b[0m==================================\n",
      "Tool Calls:\n",
      "  rag_tool (j27mnfm6e)\n",
      " Call ID: j27mnfm6e\n",
      "  Args:\n",
      "    query: Australia beat South Africa by 17 runs, take 1-0 lead in three-match series\n",
      "---\n",
      "=================================\u001b[1m Tool Message \u001b[0m=================================\n",
      "Name: rag_tool\n",
      "\n",
      "This question is about a cricket match and cannot be answered from the provided context. \n",
      "\n",
      "---\n",
      "==================================\u001b[1m Ai Message \u001b[0m==================================\n",
      "\n",
      "Australia won the last Aus vs SA T20 match by 17 runs.\n",
      "---\n"
     ]
    }
   ],
   "source": [
    "inputs = {\"messages\": [HumanMessage(content=\"who won last aus vs sa t20 match\")]}\n",
    "\n",
    "for event in app.stream(inputs, stream_mode=\"values\"):\n",
    "    event[\"messages\"][-1].pretty_print()\n",
    "    print(\"---\")"
   ]
  },
  {
   "cell_type": "code",
   "execution_count": 110,
   "id": "0cfcd1d6",
   "metadata": {},
   "outputs": [
    {
     "name": "stdout",
     "output_type": "stream",
     "text": [
      "================================\u001b[1m Human Message \u001b[0m=================================\n",
      "\n",
      "What are the main components of an LLM-powered autonomous agent system?\n",
      "---\n",
      "==================================\u001b[1m Ai Message \u001b[0m==================================\n",
      "Tool Calls:\n",
      "  rag_tool (1r055nazv)\n",
      " Call ID: 1r055nazv\n",
      "  Args:\n",
      "    query: What are the main components of an LLM-powered autonomous agent system?\n",
      "---\n",
      "=================================\u001b[1m Tool Message \u001b[0m=================================\n",
      "Name: rag_tool\n",
      "\n",
      "According to the text, the main components of an LLM-powered autonomous agent system are:\n",
      "\n",
      "* **Planning:** This includes subgoal decomposition and self-reflection.\n",
      "* **Memory:**  This consists of short-term memory (in-context learning) and long-term memory (often using an external vector store).\n",
      "* **Tool use:** The agent learns to use external APIs for information and capabilities not included in its model weights. \n",
      "\n",
      "\n",
      "\n",
      "---\n",
      "==================================\u001b[1m Ai Message \u001b[0m==================================\n",
      "\n",
      "According to the text, the main components of an LLM-powered autonomous agent system are:\n",
      "\n",
      "* **Planning:** This includes subgoal decomposition and self-reflection.\n",
      "* **Memory:**  This consists of short-term memory (in-context learning) and long-term memory (often using an external vector store).\n",
      "* **Tool use:** The agent learns to use external APIs for information and capabilities not included in its model weights.\n",
      "---\n"
     ]
    }
   ],
   "source": [
    "# Scenario B\n",
    "inputs = {\"messages\": [HumanMessage(content=\"What are the main components of an LLM-powered autonomous agent system?\")]}\n",
    "\n",
    "for event in app.stream(inputs, stream_mode=\"values\"):\n",
    "    event[\"messages\"][-1].pretty_print()\n",
    "    print(\"---\")"
   ]
  },
  {
   "cell_type": "code",
   "execution_count": null,
   "id": "03f05c64",
   "metadata": {},
   "outputs": [],
   "source": []
  }
 ],
 "metadata": {
  "kernelspec": {
   "display_name": "myenv",
   "language": "python",
   "name": "python3"
  },
  "language_info": {
   "codemirror_mode": {
    "name": "ipython",
    "version": 3
   },
   "file_extension": ".py",
   "mimetype": "text/x-python",
   "name": "python",
   "nbconvert_exporter": "python",
   "pygments_lexer": "ipython3",
   "version": "3.13.5"
  }
 },
 "nbformat": 4,
 "nbformat_minor": 5
}
