{
 "cells": [
  {
   "cell_type": "code",
   "execution_count": 13,
   "id": "b270091a",
   "metadata": {},
   "outputs": [],
   "source": [
    "from typing import TypedDict,Literal,Annotated\n",
    "\n",
    "from langchain_groq import ChatGroq\n",
    "import os\n",
    "from dotenv import load_dotenv\n",
    "load_dotenv()\n",
    "groq_api=os.getenv('groq_api')\n",
    "llm=ChatGroq(model='gemma2-9b-it',api_key=groq_api)\n",
    "from langgraph.graph import StateGraph,START,END\n",
    "from pydantic import BaseModel,Field\n",
    "import operator\n",
    "from langchain_core.messages import HumanMessage,SystemMessage,BaseMessage\n",
    "from langgraph.checkpoint.memory import MemorySaver\n",
    "\n"
   ]
  },
  {
   "cell_type": "code",
   "execution_count": 3,
   "id": "09f375aa",
   "metadata": {},
   "outputs": [],
   "source": [
    "from langgraph.graph.message import add_messages ## its a reducer function like operator.add it is more optimize to work with base messages\n",
    "\n",
    "class ChatState(TypedDict):\n",
    "    message:Annotated[list[BaseMessage],add_messages]    ## it can be list[str] but list[basemessage] is perpect all types of message like system, human, ai all comes under system message"
   ]
  },
  {
   "cell_type": "code",
   "execution_count": 4,
   "id": "9686631c",
   "metadata": {},
   "outputs": [],
   "source": [
    "def chat_node(state:ChatState):\n",
    "    message=state['message']\n",
    "    response=llm.invoke(message).content\n",
    "    return {'message':response}"
   ]
  },
  {
   "cell_type": "code",
   "execution_count": null,
   "id": "ba14e910",
   "metadata": {},
   "outputs": [],
   "source": [
    "\n",
    "checkpointer=MemorySaver()\n",
    "graph=StateGraph(ChatState)\n",
    "\n",
    "graph.add_node('chat_node',chat_node)\n",
    "\n",
    "graph.add_edge(START,'chat_node')\n",
    "graph.add_edge('chat_node',END)\n",
    "\n",
    "workflow=graph.compile(checkpointer=checkpointer)\n"
   ]
  },
  {
   "cell_type": "code",
   "execution_count": 6,
   "id": "5daf514f",
   "metadata": {},
   "outputs": [],
   "source": [
    "init_state={'message':HumanMessage(\"what is the capital of bihar?\")}\n",
    "reply=workflow.invoke(init_state)"
   ]
  },
  {
   "cell_type": "code",
   "execution_count": 7,
   "id": "e55b5a8b",
   "metadata": {},
   "outputs": [
    {
     "data": {
      "text/plain": [
       "{'message': [HumanMessage(content='what is the capital of bihar?', additional_kwargs={}, response_metadata={}, id='9f97bfef-9e3e-4a84-9dcc-2ec94ccad42d'),\n",
       "  HumanMessage(content='The capital of Bihar is **Patna**. \\n', additional_kwargs={}, response_metadata={}, id='2f058720-2894-4368-af90-4dea9d75906c')]}"
      ]
     },
     "execution_count": 7,
     "metadata": {},
     "output_type": "execute_result"
    }
   ],
   "source": [
    "reply"
   ]
  },
  {
   "cell_type": "code",
   "execution_count": 8,
   "id": "571af2fd",
   "metadata": {},
   "outputs": [
    {
     "data": {
      "text/plain": [
       "'The capital of Bihar is **Patna**. \\n'"
      ]
     },
     "execution_count": 8,
     "metadata": {},
     "output_type": "execute_result"
    }
   ],
   "source": [
    "reply['message'][-1].content"
   ]
  },
  {
   "cell_type": "code",
   "execution_count": 9,
   "id": "5e7afe24",
   "metadata": {},
   "outputs": [],
   "source": [
    "st=input('what is my name?')"
   ]
  },
  {
   "cell_type": "code",
   "execution_count": 10,
   "id": "b677851e",
   "metadata": {},
   "outputs": [
    {
     "data": {
      "text/plain": [
       "''"
      ]
     },
     "execution_count": 10,
     "metadata": {},
     "output_type": "execute_result"
    }
   ],
   "source": [
    "st"
   ]
  },
  {
   "cell_type": "code",
   "execution_count": 15,
   "id": "8cc5777b",
   "metadata": {},
   "outputs": [
    {
     "name": "stdout",
     "output_type": "stream",
     "text": [
      "Humman : hi my name is sahil\n",
      "AI Hi Sahil, it's nice to meet you!\n",
      "\n",
      "What can I do for you today? 😄  \n",
      "\n",
      "Humman : what is my name\n",
      "AI Your name is Sahil.  😊 \n",
      "\n",
      "I remember that you told me!  Is there anything else I can help you with?\n",
      "\n",
      "Humman : can you add 199+1\n",
      "AI 200 😄  \n",
      "\n",
      "Humman : now  multiply with 1o\n",
      "AI 2000  😄  \n",
      "\n"
     ]
    }
   ],
   "source": [
    "thread_id=1\n",
    "while True:\n",
    "    question=input('for exit type end....')\n",
    "    if(question!='end'):\n",
    "        init_state={'message':HumanMessage(content=question)}\n",
    "        config={'configurable':{'thread_id':thread_id}}\n",
    "\n",
    "        reply=workflow.invoke(init_state,config=config)['message'][-1].content\n",
    "        print('Humman :', question )\n",
    "        print('AI :' ,reply)\n",
    "    else:\n",
    "        break"
   ]
  },
  {
   "cell_type": "code",
   "execution_count": 20,
   "id": "49efb3a1",
   "metadata": {},
   "outputs": [
    {
     "data": {
      "text/plain": [
       "{'message': [HumanMessage(content='hi my name is sahil', additional_kwargs={}, response_metadata={}, id='af3f05b5-a31c-4180-a24b-a8e9dfa8f244'),\n",
       "  HumanMessage(content=\"Hi Sahil, it's nice to meet you!\\n\\nWhat can I do for you today? 😄  \\n\", additional_kwargs={}, response_metadata={}, id='0649d2d2-d9ad-4799-a983-80f86ef66484'),\n",
       "  HumanMessage(content='what is my name', additional_kwargs={}, response_metadata={}, id='af59ff75-d9ea-4a88-af5a-ce61945e2b39'),\n",
       "  HumanMessage(content='Your name is Sahil.  😊 \\n\\nI remember that you told me!  Is there anything else I can help you with?\\n', additional_kwargs={}, response_metadata={}, id='9cc1ff33-6793-4e68-8e22-b9c413ef5ff9'),\n",
       "  HumanMessage(content='can you add 199+1', additional_kwargs={}, response_metadata={}, id='b5f86eb8-d684-459c-8816-0584d2f2daf6'),\n",
       "  HumanMessage(content='200 😄  \\n', additional_kwargs={}, response_metadata={}, id='fef5df13-7b7e-4699-8129-5f5a4be0c054'),\n",
       "  HumanMessage(content='now  multiply with 1o', additional_kwargs={}, response_metadata={}, id='71a63a0d-60a4-4d1e-8426-5226b5408ef5'),\n",
       "  HumanMessage(content='2000  😄  \\n', additional_kwargs={}, response_metadata={}, id='20686a2a-1e5d-4980-a0c3-98b9a1f7b64c')]}"
      ]
     },
     "execution_count": 20,
     "metadata": {},
     "output_type": "execute_result"
    }
   ],
   "source": [
    "workflow.get_state(config=config).values"
   ]
  },
  {
   "cell_type": "code",
   "execution_count": null,
   "id": "c4f82d6f",
   "metadata": {},
   "outputs": [],
   "source": []
  }
 ],
 "metadata": {
  "kernelspec": {
   "display_name": "myenv",
   "language": "python",
   "name": "python3"
  },
  "language_info": {
   "codemirror_mode": {
    "name": "ipython",
    "version": 3
   },
   "file_extension": ".py",
   "mimetype": "text/x-python",
   "name": "python",
   "nbconvert_exporter": "python",
   "pygments_lexer": "ipython3",
   "version": "3.13.5"
  }
 },
 "nbformat": 4,
 "nbformat_minor": 5
}
