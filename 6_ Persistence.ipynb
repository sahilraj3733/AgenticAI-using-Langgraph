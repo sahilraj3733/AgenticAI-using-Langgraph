{
 "cells": [
  {
   "cell_type": "code",
   "execution_count": null,
   "id": "cd7d4ac4",
   "metadata": {},
   "outputs": [],
   "source": [
    "## Persistence -- ability to save and restore the state of a workflow over time\n",
    "\n",
    "## how to perform 1. add checkpointer to  each step"
   ]
  },
  {
   "cell_type": "code",
   "execution_count": null,
   "id": "2ea9100c",
   "metadata": {},
   "outputs": [],
   "source": [
    "## Task -- generate a joke on given topic and then explanation of joke"
   ]
  },
  {
   "cell_type": "code",
   "execution_count": 39,
   "id": "93be210d",
   "metadata": {},
   "outputs": [],
   "source": [
    "from typing import TypedDict,Literal,Annotated\n",
    "\n",
    "from langchain_groq import ChatGroq\n",
    "import os\n",
    "from dotenv import load_dotenv\n",
    "load_dotenv()\n",
    "groq_api=os.getenv('groq_api')\n",
    "llm=ChatGroq(model='gemma2-9b-it',api_key=groq_api)\n",
    "from langgraph.graph import StateGraph,START,END\n",
    "from pydantic import BaseModel,Field\n",
    "import operator\n",
    "from langchain_core.messages import HumanMessage,SystemMessage,BaseMessage\n",
    "from langgraph.checkpoint.memory import InMemorySaver\n",
    "\n"
   ]
  },
  {
   "cell_type": "code",
   "execution_count": 4,
   "id": "a55f02e5",
   "metadata": {},
   "outputs": [],
   "source": [
    "class JokeState(TypedDict):\n",
    "    topic:str\n",
    "    joke:str\n",
    "    explanation:str"
   ]
  },
  {
   "cell_type": "code",
   "execution_count": 5,
   "id": "9f7f506c",
   "metadata": {},
   "outputs": [],
   "source": [
    "def generate_joke(state:JokeState):\n",
    "    topic=state['topic']\n",
    "\n",
    "    prompt=f'Generate a short and funny joke on the topic of {topic}'\n",
    "    output=llm.invoke(prompt).content\n",
    "    return {'joke':output}\n",
    "\n",
    "def generate_explantion(state:JokeState):\n",
    "    prompt=f'Explain this joke {state['joke']} in easy words'\n",
    "    output=llm.invoke(prompt).content\n",
    "    return {'explanation':output}"
   ]
  },
  {
   "cell_type": "code",
   "execution_count": null,
   "id": "58a59d2c",
   "metadata": {},
   "outputs": [],
   "source": [
    "graph=StateGraph(JokeState)\n",
    "\n",
    "graph.add_node('generate_joke',generate_joke)\n",
    "graph.add_node('generate_explanation',generate_explantion)\n",
    "\n",
    "graph.add_edge(START,'generate_joke')\n",
    "graph.add_edge('generate_joke','generate_explanation')\n",
    "graph.add_edge('generate_explanation',END)\n",
    "\n",
    "checkpoint=InMemorySaver()\n",
    "workflow=graph.compile(checkpointer=checkpoint)"
   ]
  },
  {
   "cell_type": "code",
   "execution_count": 16,
   "id": "7010ed94",
   "metadata": {},
   "outputs": [],
   "source": [
    "# workflow"
   ]
  },
  {
   "cell_type": "code",
   "execution_count": 28,
   "id": "1578fa39",
   "metadata": {},
   "outputs": [],
   "source": [
    "thread_id=2\n",
    "config={'configurable':{'thread_id':thread_id}}\n",
    "init_state={'topic':'wwe'}\n",
    "\n",
    "output=workflow.invoke(init_state,config=config)"
   ]
  },
  {
   "cell_type": "code",
   "execution_count": 29,
   "id": "68689aac",
   "metadata": {},
   "outputs": [
    {
     "data": {
      "text/plain": [
       "{'topic': 'wwe',\n",
       " 'joke': 'Why did the wrestler bring a ladder to the library? \\n\\nHe heard there was a book on how to \"climb the ranks\"!  😂 \\n',\n",
       " 'explanation': 'This joke plays on two different meanings of the phrase \"climb the ranks.\"\\n\\n* **Wrestlers** try to climb the ranks in their sport by winning matches and becoming more famous.\\n\\n* **Libraries** have books on many topics, including how to succeed in life. \\n\\nThe joke is funny because it makes a silly connection between these two ideas. The wrestler thinks the library has a book with literal instructions on how to climb a ladder, when it really means achieving a higher position or status.  \\n\\n\\nLet me know if you\\'d like to hear another joke! 😊 \\n'}"
      ]
     },
     "execution_count": 29,
     "metadata": {},
     "output_type": "execute_result"
    }
   ],
   "source": [
    "output"
   ]
  },
  {
   "cell_type": "code",
   "execution_count": 30,
   "id": "4aeb112a",
   "metadata": {},
   "outputs": [
    {
     "data": {
      "text/plain": [
       "StateSnapshot(values={'topic': 'wwe', 'joke': 'Why did the wrestler bring a ladder to the library? \\n\\nHe heard there was a book on how to \"climb the ranks\"!  😂 \\n', 'explanation': 'This joke plays on two different meanings of the phrase \"climb the ranks.\"\\n\\n* **Wrestlers** try to climb the ranks in their sport by winning matches and becoming more famous.\\n\\n* **Libraries** have books on many topics, including how to succeed in life. \\n\\nThe joke is funny because it makes a silly connection between these two ideas. The wrestler thinks the library has a book with literal instructions on how to climb a ladder, when it really means achieving a higher position or status.  \\n\\n\\nLet me know if you\\'d like to hear another joke! 😊 \\n'}, next=(), config={'configurable': {'thread_id': '2', 'checkpoint_ns': '', 'checkpoint_id': '1f0746c5-355c-647e-8006-2a617091329f'}}, metadata={'source': 'loop', 'step': 6, 'parents': {}}, created_at='2025-08-08T15:28:25.190476+00:00', parent_config={'configurable': {'thread_id': '2', 'checkpoint_ns': '', 'checkpoint_id': '1f0746c5-3012-68ce-8005-78ccffe7077f'}}, tasks=(), interrupts=())"
      ]
     },
     "execution_count": 30,
     "metadata": {},
     "output_type": "execute_result"
    }
   ],
   "source": [
    "workflow.get_state(config=config)"
   ]
  },
  {
   "cell_type": "code",
   "execution_count": 31,
   "id": "efbcf459",
   "metadata": {},
   "outputs": [
    {
     "data": {
      "text/plain": [
       "[StateSnapshot(values={'topic': 'wwe', 'joke': 'Why did the wrestler bring a ladder to the library? \\n\\nHe heard there was a book on how to \"climb the ranks\"!  😂 \\n', 'explanation': 'This joke plays on two different meanings of the phrase \"climb the ranks.\"\\n\\n* **Wrestlers** try to climb the ranks in their sport by winning matches and becoming more famous.\\n\\n* **Libraries** have books on many topics, including how to succeed in life. \\n\\nThe joke is funny because it makes a silly connection between these two ideas. The wrestler thinks the library has a book with literal instructions on how to climb a ladder, when it really means achieving a higher position or status.  \\n\\n\\nLet me know if you\\'d like to hear another joke! 😊 \\n'}, next=(), config={'configurable': {'thread_id': '2', 'checkpoint_ns': '', 'checkpoint_id': '1f0746c5-355c-647e-8006-2a617091329f'}}, metadata={'source': 'loop', 'step': 6, 'parents': {}}, created_at='2025-08-08T15:28:25.190476+00:00', parent_config={'configurable': {'thread_id': '2', 'checkpoint_ns': '', 'checkpoint_id': '1f0746c5-3012-68ce-8005-78ccffe7077f'}}, tasks=(), interrupts=()),\n",
       " StateSnapshot(values={'topic': 'wwe', 'joke': 'Why did the wrestler bring a ladder to the library? \\n\\nHe heard there was a book on how to \"climb the ranks\"!  😂 \\n', 'explanation': 'This joke plays on the words \"high\" having two meanings.  \\n\\n* **High (score):** In cricket, you want to score lots of runs. So, \"high wickets\" could mean a really good score.\\n* **High (as in up):** Wickets are the three sticks in cricket that batters try to hit the ball over.  \\n\\nThe joke is funny because it makes you think about wickets being literally tall, like needing a ladder to reach them! 🪜  \\n'}, next=('generate_explanation',), config={'configurable': {'thread_id': '2', 'checkpoint_ns': '', 'checkpoint_id': '1f0746c5-3012-68ce-8005-78ccffe7077f'}}, metadata={'source': 'loop', 'step': 5, 'parents': {}}, created_at='2025-08-08T15:28:24.635987+00:00', parent_config={'configurable': {'thread_id': '2', 'checkpoint_ns': '', 'checkpoint_id': '1f0746c5-2a38-67c8-8004-f17fc45607b0'}}, tasks=(PregelTask(id='5448f962-9dbe-0420-33a5-9d24003920cd', name='generate_explanation', path=('__pregel_pull', 'generate_explanation'), error=None, interrupts=(), state=None, result={'explanation': 'This joke plays on two different meanings of the phrase \"climb the ranks.\"\\n\\n* **Wrestlers** try to climb the ranks in their sport by winning matches and becoming more famous.\\n\\n* **Libraries** have books on many topics, including how to succeed in life. \\n\\nThe joke is funny because it makes a silly connection between these two ideas. The wrestler thinks the library has a book with literal instructions on how to climb a ladder, when it really means achieving a higher position or status.  \\n\\n\\nLet me know if you\\'d like to hear another joke! 😊 \\n'}),), interrupts=()),\n",
       " StateSnapshot(values={'topic': 'wwe', 'joke': 'Why did the cricket player bring a ladder to the match? \\n\\nBecause he heard the wickets were high! 🏏😂  \\n', 'explanation': 'This joke plays on the words \"high\" having two meanings.  \\n\\n* **High (score):** In cricket, you want to score lots of runs. So, \"high wickets\" could mean a really good score.\\n* **High (as in up):** Wickets are the three sticks in cricket that batters try to hit the ball over.  \\n\\nThe joke is funny because it makes you think about wickets being literally tall, like needing a ladder to reach them! 🪜  \\n'}, next=('generate_joke',), config={'configurable': {'thread_id': '2', 'checkpoint_ns': '', 'checkpoint_id': '1f0746c5-2a38-67c8-8004-f17fc45607b0'}}, metadata={'source': 'loop', 'step': 4, 'parents': {}}, created_at='2025-08-08T15:28:24.022412+00:00', parent_config={'configurable': {'thread_id': '2', 'checkpoint_ns': '', 'checkpoint_id': '1f0746c5-2a36-6e5a-8003-d6d6bc8a015f'}}, tasks=(PregelTask(id='1fcf3199-d4ab-8a0d-9bee-b7c967f42d4b', name='generate_joke', path=('__pregel_pull', 'generate_joke'), error=None, interrupts=(), state=None, result={'joke': 'Why did the wrestler bring a ladder to the library? \\n\\nHe heard there was a book on how to \"climb the ranks\"!  😂 \\n'}),), interrupts=()),\n",
       " StateSnapshot(values={'topic': 'cricket', 'joke': 'Why did the cricket player bring a ladder to the match? \\n\\nBecause he heard the wickets were high! 🏏😂  \\n', 'explanation': 'This joke plays on the words \"high\" having two meanings.  \\n\\n* **High (score):** In cricket, you want to score lots of runs. So, \"high wickets\" could mean a really good score.\\n* **High (as in up):** Wickets are the three sticks in cricket that batters try to hit the ball over.  \\n\\nThe joke is funny because it makes you think about wickets being literally tall, like needing a ladder to reach them! 🪜  \\n'}, next=('__start__',), config={'configurable': {'thread_id': '2', 'checkpoint_ns': '', 'checkpoint_id': '1f0746c5-2a36-6e5a-8003-d6d6bc8a015f'}}, metadata={'source': 'input', 'step': 3, 'parents': {}}, created_at='2025-08-08T15:28:24.021760+00:00', parent_config={'configurable': {'thread_id': '2', 'checkpoint_ns': '', 'checkpoint_id': '1f0746c1-a9e6-6848-8002-8c9851cf2f79'}}, tasks=(PregelTask(id='ce29e667-6a9b-d6f4-c5f2-a49614b012ca', name='__start__', path=('__pregel_pull', '__start__'), error=None, interrupts=(), state=None, result={'topic': 'wwe'}),), interrupts=()),\n",
       " StateSnapshot(values={'topic': 'cricket', 'joke': 'Why did the cricket player bring a ladder to the match? \\n\\nBecause he heard the wickets were high! 🏏😂  \\n', 'explanation': 'This joke plays on the words \"high\" having two meanings.  \\n\\n* **High (score):** In cricket, you want to score lots of runs. So, \"high wickets\" could mean a really good score.\\n* **High (as in up):** Wickets are the three sticks in cricket that batters try to hit the ball over.  \\n\\nThe joke is funny because it makes you think about wickets being literally tall, like needing a ladder to reach them! 🪜  \\n'}, next=(), config={'configurable': {'thread_id': '2', 'checkpoint_ns': '', 'checkpoint_id': '1f0746c1-a9e6-6848-8002-8c9851cf2f79'}}, metadata={'source': 'loop', 'step': 2, 'parents': {}}, created_at='2025-08-08T15:26:50.036398+00:00', parent_config={'configurable': {'thread_id': '2', 'checkpoint_ns': '', 'checkpoint_id': '1f0746c1-a4e7-6180-8001-d92f4a0df5d6'}}, tasks=(), interrupts=()),\n",
       " StateSnapshot(values={'topic': 'cricket', 'joke': 'Why did the cricket player bring a ladder to the match? \\n\\nBecause he heard the wickets were high! 🏏😂  \\n'}, next=('generate_explanation',), config={'configurable': {'thread_id': '2', 'checkpoint_ns': '', 'checkpoint_id': '1f0746c1-a4e7-6180-8001-d92f4a0df5d6'}}, metadata={'source': 'loop', 'step': 1, 'parents': {}}, created_at='2025-08-08T15:26:49.512341+00:00', parent_config={'configurable': {'thread_id': '2', 'checkpoint_ns': '', 'checkpoint_id': '1f0746c1-9f5c-6300-8000-8417d0a0b22a'}}, tasks=(PregelTask(id='6079fbb1-9e39-78fc-88ae-c6247bff8c26', name='generate_explanation', path=('__pregel_pull', 'generate_explanation'), error=None, interrupts=(), state=None, result={'explanation': 'This joke plays on the words \"high\" having two meanings.  \\n\\n* **High (score):** In cricket, you want to score lots of runs. So, \"high wickets\" could mean a really good score.\\n* **High (as in up):** Wickets are the three sticks in cricket that batters try to hit the ball over.  \\n\\nThe joke is funny because it makes you think about wickets being literally tall, like needing a ladder to reach them! 🪜  \\n'}),), interrupts=()),\n",
       " StateSnapshot(values={'topic': 'cricket'}, next=('generate_joke',), config={'configurable': {'thread_id': '2', 'checkpoint_ns': '', 'checkpoint_id': '1f0746c1-9f5c-6300-8000-8417d0a0b22a'}}, metadata={'source': 'loop', 'step': 0, 'parents': {}}, created_at='2025-08-08T15:26:48.931192+00:00', parent_config={'configurable': {'thread_id': '2', 'checkpoint_ns': '', 'checkpoint_id': '1f0746c1-9f5a-6c26-bfff-ba6f0b7dfa81'}}, tasks=(PregelTask(id='b9d54f6b-acb5-d22a-5090-0e7a0b2a31da', name='generate_joke', path=('__pregel_pull', 'generate_joke'), error=None, interrupts=(), state=None, result={'joke': 'Why did the cricket player bring a ladder to the match? \\n\\nBecause he heard the wickets were high! 🏏😂  \\n'}),), interrupts=()),\n",
       " StateSnapshot(values={}, next=('__start__',), config={'configurable': {'thread_id': '2', 'checkpoint_ns': '', 'checkpoint_id': '1f0746c1-9f5a-6c26-bfff-ba6f0b7dfa81'}}, metadata={'source': 'input', 'step': -1, 'parents': {}}, created_at='2025-08-08T15:26:48.930608+00:00', parent_config=None, tasks=(PregelTask(id='cf5f52d8-a81e-1139-75b6-24f930e8ed1e', name='__start__', path=('__pregel_pull', '__start__'), error=None, interrupts=(), state=None, result={'topic': 'cricket'}),), interrupts=())]"
      ]
     },
     "execution_count": 31,
     "metadata": {},
     "output_type": "execute_result"
    }
   ],
   "source": [
    "list(workflow.get_state_history(config=config))"
   ]
  },
  {
   "cell_type": "markdown",
   "id": "2a6bf370",
   "metadata": {},
   "source": [
    "## Time Travel --- we can go in past(prv state) and run same code "
   ]
  },
  {
   "cell_type": "code",
   "execution_count": 33,
   "id": "26f4dbfa",
   "metadata": {},
   "outputs": [
    {
     "data": {
      "text/plain": [
       "StateSnapshot(values={'topic': 'cricket'}, next=('generate_joke',), config={'configurable': {'thread_id': '2', 'checkpoint_id': '1f0746c1-9f5c-6300-8000-8417d0a0b22a'}}, metadata={'source': 'loop', 'step': 0, 'parents': {}}, created_at='2025-08-08T15:26:48.931192+00:00', parent_config={'configurable': {'thread_id': '2', 'checkpoint_ns': '', 'checkpoint_id': '1f0746c1-9f5a-6c26-bfff-ba6f0b7dfa81'}}, tasks=(PregelTask(id='b9d54f6b-acb5-d22a-5090-0e7a0b2a31da', name='generate_joke', path=('__pregel_pull', 'generate_joke'), error=None, interrupts=(), state=None, result={'joke': 'Why did the cricket player bring a ladder to the match? \\n\\nBecause he heard the wickets were high! 🏏😂  \\n'}),), interrupts=())"
      ]
     },
     "execution_count": 33,
     "metadata": {},
     "output_type": "execute_result"
    }
   ],
   "source": [
    "workflow.get_state(config={'configurable':{'thread_id':2,\"checkpoint_id\":'1f0746c1-9f5c-6300-8000-8417d0a0b22a'}})"
   ]
  },
  {
   "cell_type": "code",
   "execution_count": 34,
   "id": "88b471f4",
   "metadata": {},
   "outputs": [
    {
     "data": {
      "text/plain": [
       "StateSnapshot(values={'topic': 'cricket', 'joke': 'Why did the cricket player bring a ladder to the match? \\n\\nBecause he heard the wickets were high! 🏏😂  \\n'}, next=('generate_explanation',), config={'configurable': {'thread_id': '2', 'checkpoint_id': '1f0746c1-a4e7-6180-8001-d92f4a0df5d6'}}, metadata={'source': 'loop', 'step': 1, 'parents': {}}, created_at='2025-08-08T15:26:49.512341+00:00', parent_config={'configurable': {'thread_id': '2', 'checkpoint_ns': '', 'checkpoint_id': '1f0746c1-9f5c-6300-8000-8417d0a0b22a'}}, tasks=(PregelTask(id='6079fbb1-9e39-78fc-88ae-c6247bff8c26', name='generate_explanation', path=('__pregel_pull', 'generate_explanation'), error=None, interrupts=(), state=None, result={'explanation': 'This joke plays on the words \"high\" having two meanings.  \\n\\n* **High (score):** In cricket, you want to score lots of runs. So, \"high wickets\" could mean a really good score.\\n* **High (as in up):** Wickets are the three sticks in cricket that batters try to hit the ball over.  \\n\\nThe joke is funny because it makes you think about wickets being literally tall, like needing a ladder to reach them! 🪜  \\n'}),), interrupts=())"
      ]
     },
     "execution_count": 34,
     "metadata": {},
     "output_type": "execute_result"
    }
   ],
   "source": [
    "workflow.get_state(config={'configurable':{'thread_id':2,\"checkpoint_id\":'1f0746c1-a4e7-6180-8001-d92f4a0df5d6'}})"
   ]
  },
  {
   "cell_type": "code",
   "execution_count": 59,
   "id": "e2c8e655",
   "metadata": {},
   "outputs": [
    {
     "data": {
      "text/plain": [
       "{'topic': 'cricket',\n",
       " 'joke': 'Why did the cricketer bring a ladder to the match? \\n\\nBecause he heard the bowling was going to be high! 🏏 😂  \\n',\n",
       " 'explanation': 'This joke plays on the words \"high\" having two meanings. \\n\\n* **High in the air:**  Cricket bowlers throw the ball, and sometimes they throw it really high.\\n* **Good quality:**  We sometimes say something is \"high\" quality if it\\'s really good.\\n\\nThe joke is funny because the cricketer brought a ladder expecting the bowling to be *really high in the air*, but actually he might have heard the bowling was going to be *really good*! \\n\\n'}"
      ]
     },
     "execution_count": 59,
     "metadata": {},
     "output_type": "execute_result"
    }
   ],
   "source": [
    "workflow.invoke(None,config={'configurable':{'thread_id':2,\"checkpoint_id\":'1f0746c1-9f5c-6300-8000-8417d0a0b22a'}}) ## run from that checkpoint if"
   ]
  },
  {
   "cell_type": "markdown",
   "id": "25dfbef3",
   "metadata": {},
   "source": [
    "## Fault Tolerance"
   ]
  },
  {
   "cell_type": "code",
   "execution_count": 49,
   "id": "4e405acd",
   "metadata": {},
   "outputs": [],
   "source": [
    "class CrashState(TypedDict):\n",
    "    input: str\n",
    "    step1: str\n",
    "    step2: str"
   ]
  },
  {
   "cell_type": "code",
   "execution_count": 50,
   "id": "73b89966",
   "metadata": {},
   "outputs": [],
   "source": [
    "import time\n",
    "def step_1(state: CrashState) -> CrashState:\n",
    "    print(\"✅ Step 1 executed\")\n",
    "    return {\"step1\": \"done\", \"input\": state[\"input\"]}\n",
    "\n",
    "def step_2(state: CrashState) -> CrashState:\n",
    "    print(\"⏳ Step 2 hanging... now manually interrupt from the notebook toolbar (STOP button)\")\n",
    "    time.sleep(30)  # Simulate long-running hang\n",
    "    return {\"step2\": \"done\"}\n",
    "\n",
    "def step_3(state: CrashState) -> CrashState:\n",
    "    print(\"✅ Step 3 executed\")\n",
    "    return {\"done\": True}"
   ]
  },
  {
   "cell_type": "code",
   "execution_count": 51,
   "id": "a16acd3f",
   "metadata": {},
   "outputs": [],
   "source": [
    "\n",
    "builder = StateGraph(CrashState)\n",
    "builder.add_node(\"step_1\", step_1)\n",
    "builder.add_node(\"step_2\", step_2)\n",
    "builder.add_node(\"step_3\", step_3)\n",
    "\n",
    "builder.set_entry_point(\"step_1\")\n",
    "builder.add_edge(\"step_1\", \"step_2\")\n",
    "builder.add_edge(\"step_2\", \"step_3\")\n",
    "builder.add_edge(\"step_3\", END)\n",
    "\n",
    "checkpointer = InMemorySaver()\n",
    "graph = builder.compile(checkpointer=checkpointer)"
   ]
  },
  {
   "cell_type": "code",
   "execution_count": 52,
   "id": "935d9fe3",
   "metadata": {},
   "outputs": [
    {
     "data": {
      "image/png": "[encoded data removed]",
      "text/plain": [
       "<langgraph.graph.state.CompiledStateGraph object at 0x11948a710>"
      ]
     },
     "execution_count": 52,
     "metadata": {},
     "output_type": "execute_result"
    }
   ],
   "source": [
    "graph"
   ]
  },
  {
   "cell_type": "code",
   "execution_count": 53,
   "id": "608a88c6",
   "metadata": {},
   "outputs": [
    {
     "name": "stdout",
     "output_type": "stream",
     "text": [
      "▶️ Running graph: Please manually interrupt during Step 2...\n",
      "✅ Step 1 executed\n",
      "⏳ Step 2 hanging... now manually interrupt from the notebook toolbar (STOP button)\n",
      "❌ Kernel manually interrupted (crash simulated).\n"
     ]
    }
   ],
   "source": [
    "try:\n",
    "    print(\"▶️ Running graph: Please manually interrupt during Step 2...\")\n",
    "    graph.invoke({\"input\": \"start\"}, config={\"configurable\": {\"thread_id\": 'thread-1'}})\n",
    "except KeyboardInterrupt:\n",
    "    print(\"❌ Kernel manually interrupted (crash simulated).\")"
   ]
  },
  {
   "cell_type": "code",
   "execution_count": 54,
   "id": "41b4e39b",
   "metadata": {},
   "outputs": [
    {
     "data": {
      "text/plain": [
       "[StateSnapshot(values={'input': 'start', 'step1': 'done'}, next=('step_2',), config={'configurable': {'thread_id': 'thread-1', 'checkpoint_ns': '', 'checkpoint_id': '1f0746e9-7978-6828-8001-5d142ded1483'}}, metadata={'source': 'loop', 'step': 1, 'parents': {}}, created_at='2025-08-08T15:44:38.700020+00:00', parent_config={'configurable': {'thread_id': 'thread-1', 'checkpoint_ns': '', 'checkpoint_id': '1f0746e9-7975-68e4-8000-fe1aa4c5a74c'}}, tasks=(PregelTask(id='43a0ae72-caf8-463d-80ac-2dd232416491', name='step_2', path=('__pregel_pull', 'step_2'), error=None, interrupts=(), state=None, result=None),), interrupts=()),\n",
       " StateSnapshot(values={'input': 'start'}, next=('step_1',), config={'configurable': {'thread_id': 'thread-1', 'checkpoint_ns': '', 'checkpoint_id': '1f0746e9-7975-68e4-8000-fe1aa4c5a74c'}}, metadata={'source': 'loop', 'step': 0, 'parents': {}}, created_at='2025-08-08T15:44:38.698811+00:00', parent_config={'configurable': {'thread_id': 'thread-1', 'checkpoint_ns': '', 'checkpoint_id': '1f0746e9-7972-6f40-bfff-b96ed6011090'}}, tasks=(PregelTask(id='b1491e66-4715-4d96-0545-293ef7b82bd1', name='step_1', path=('__pregel_pull', 'step_1'), error=None, interrupts=(), state=None, result={'step1': 'done', 'input': 'start'}),), interrupts=()),\n",
       " StateSnapshot(values={}, next=('__start__',), config={'configurable': {'thread_id': 'thread-1', 'checkpoint_ns': '', 'checkpoint_id': '1f0746e9-7972-6f40-bfff-b96ed6011090'}}, metadata={'source': 'input', 'step': -1, 'parents': {}}, created_at='2025-08-08T15:44:38.697751+00:00', parent_config=None, tasks=(PregelTask(id='7523fa5f-91ad-cb4a-9ff2-bb89ae953c2c', name='__start__', path=('__pregel_pull', '__start__'), error=None, interrupts=(), state=None, result={'input': 'start'}),), interrupts=())]"
      ]
     },
     "execution_count": 54,
     "metadata": {},
     "output_type": "execute_result"
    }
   ],
   "source": [
    "list(graph.get_state_history({\"configurable\": {\"thread_id\": 'thread-1'}}))"
   ]
  },
  {
   "cell_type": "code",
   "execution_count": 56,
   "id": "f3f67750",
   "metadata": {},
   "outputs": [
    {
     "name": "stdout",
     "output_type": "stream",
     "text": [
      "\n",
      "🔁 Re-running the graph to demonstrate fault tolerance...\n",
      "\n",
      "✅ Final State: {'input': 'start', 'step1': 'done', 'step2': 'done'}\n"
     ]
    }
   ],
   "source": [
    "# Re-run to show fault-tolerant resume\n",
    "print(\"\\n🔁 Re-running the graph to demonstrate fault tolerance...\")\n",
    "final_state = graph.invoke(None, config={\"configurable\": {\"thread_id\": 'thread-1'}}) ### to restart give input as none\n",
    "print(\"\\n✅ Final State:\", final_state)"
   ]
  },
  {
   "cell_type": "code",
   "execution_count": 57,
   "id": "a5324a20",
   "metadata": {},
   "outputs": [
    {
     "data": {
      "text/plain": [
       "[StateSnapshot(values={'input': 'start', 'step1': 'done', 'step2': 'done'}, next=(), config={'configurable': {'thread_id': 'thread-1', 'checkpoint_ns': '', 'checkpoint_id': '1f0746ea-ee3b-645c-8003-d4bd760c45b1'}}, metadata={'source': 'loop', 'step': 3, 'parents': {}}, created_at='2025-08-08T15:45:17.786819+00:00', parent_config={'configurable': {'thread_id': 'thread-1', 'checkpoint_ns': '', 'checkpoint_id': '1f0746ea-ee38-6798-8002-7aa243a8937b'}}, tasks=(), interrupts=()),\n",
       " StateSnapshot(values={'input': 'start', 'step1': 'done', 'step2': 'done'}, next=('step_3',), config={'configurable': {'thread_id': 'thread-1', 'checkpoint_ns': '', 'checkpoint_id': '1f0746ea-ee38-6798-8002-7aa243a8937b'}}, metadata={'source': 'loop', 'step': 2, 'parents': {}}, created_at='2025-08-08T15:45:17.785639+00:00', parent_config={'configurable': {'thread_id': 'thread-1', 'checkpoint_ns': '', 'checkpoint_id': '1f0746e9-7978-6828-8001-5d142ded1483'}}, tasks=(PregelTask(id='f299506a-1728-64c2-f8f6-c8de768925a6', name='step_3', path=('__pregel_pull', 'step_3'), error=None, interrupts=(), state=None, result={}),), interrupts=()),\n",
       " StateSnapshot(values={'input': 'start', 'step1': 'done'}, next=('step_2',), config={'configurable': {'thread_id': 'thread-1', 'checkpoint_ns': '', 'checkpoint_id': '1f0746e9-7978-6828-8001-5d142ded1483'}}, metadata={'source': 'loop', 'step': 1, 'parents': {}}, created_at='2025-08-08T15:44:38.700020+00:00', parent_config={'configurable': {'thread_id': 'thread-1', 'checkpoint_ns': '', 'checkpoint_id': '1f0746e9-7975-68e4-8000-fe1aa4c5a74c'}}, tasks=(PregelTask(id='43a0ae72-caf8-463d-80ac-2dd232416491', name='step_2', path=('__pregel_pull', 'step_2'), error=None, interrupts=(), state=None, result={'step2': 'done'}),), interrupts=()),\n",
       " StateSnapshot(values={'input': 'start'}, next=('step_1',), config={'configurable': {'thread_id': 'thread-1', 'checkpoint_ns': '', 'checkpoint_id': '1f0746e9-7975-68e4-8000-fe1aa4c5a74c'}}, metadata={'source': 'loop', 'step': 0, 'parents': {}}, created_at='2025-08-08T15:44:38.698811+00:00', parent_config={'configurable': {'thread_id': 'thread-1', 'checkpoint_ns': '', 'checkpoint_id': '1f0746e9-7972-6f40-bfff-b96ed6011090'}}, tasks=(PregelTask(id='b1491e66-4715-4d96-0545-293ef7b82bd1', name='step_1', path=('__pregel_pull', 'step_1'), error=None, interrupts=(), state=None, result={'step1': 'done', 'input': 'start'}),), interrupts=()),\n",
       " StateSnapshot(values={}, next=('__start__',), config={'configurable': {'thread_id': 'thread-1', 'checkpoint_ns': '', 'checkpoint_id': '1f0746e9-7972-6f40-bfff-b96ed6011090'}}, metadata={'source': 'input', 'step': -1, 'parents': {}}, created_at='2025-08-08T15:44:38.697751+00:00', parent_config=None, tasks=(PregelTask(id='7523fa5f-91ad-cb4a-9ff2-bb89ae953c2c', name='__start__', path=('__pregel_pull', '__start__'), error=None, interrupts=(), state=None, result={'input': 'start'}),), interrupts=())]"
      ]
     },
     "execution_count": 57,
     "metadata": {},
     "output_type": "execute_result"
    }
   ],
   "source": [
    "list(graph.get_state_history({\"configurable\": {\"thread_id\": 'thread-1'}}))"
   ]
  },
  {
   "cell_type": "code",
   "execution_count": null,
   "id": "28da7f91",
   "metadata": {},
   "outputs": [],
   "source": []
  }
 ],
 "metadata": {
  "kernelspec": {
   "display_name": "myenv",
   "language": "python",
   "name": "python3"
  },
  "language_info": {
   "codemirror_mode": {
    "name": "ipython",
    "version": 3
   },
   "file_extension": ".py",
   "mimetype": "text/x-python",
   "name": "python",
   "nbconvert_exporter": "python",
   "pygments_lexer": "ipython3",
   "version": "3.13.5"
  }
 },
 "nbformat": 4,
 "nbformat_minor": 5
}
