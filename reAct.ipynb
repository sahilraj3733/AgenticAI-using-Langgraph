{
 "cells": [
  {
   "cell_type": "code",
   "execution_count": 17,
   "id": "1abc95d2",
   "metadata": {},
   "outputs": [],
   "source": [
    "import os\n",
    "from dotenv import load_dotenv\n",
    "load_dotenv()\n",
    "api_key=os.getenv('groq_api')\n",
    "travly=os.getenv('travly')\n",
    "os.environ[\"TAVILY_API_KEY\"] = travly\n",
    "\n",
    "\n",
    "from typing import Annotated,TypedDict,Sequence\n",
    "\n",
    "from langchain_core.messages import BaseMessage,SystemMessage,HumanMessage\n",
    "from langgraph.graph.message import add_messages\n",
    "from langchain_groq import ChatGroq\n",
    "from langgraph.graph import StateGraph,END,START\n",
    "# The tools our agent can use\n",
    "from langchain_core.tools import tool\n",
    "from langgraph.prebuilt import ToolNode\n",
    "\n"
   ]
  },
  {
   "cell_type": "code",
   "execution_count": 42,
   "id": "54bd74fd",
   "metadata": {},
   "outputs": [],
   "source": [
    "# The state for our agent\n",
    "class AgentState(TypedDict):\n",
    "    messages: Annotated[Sequence[BaseMessage], add_messages]\n",
    "\n",
    "@tool\n",
    "def add(a:int,b:int):\n",
    "   \"\"\"This is an addition function that adds 2 numbers\"\"\"\n",
    "   return a+b\n",
    "@tool\n",
    "def subtract(a:int,b:int):\n",
    "    \"\"\"This is a subtraction function that adds 2 numbers\"\"\"\n",
    "    return a-b\n",
    "@tool\n",
    "def multiply(a:int,b:int):\n",
    "    \"\"\"This is a Multiply function that adds 2 numbers\"\"\"\n",
    "    return a*b\n",
    "tools=[add,subtract,multiply]\n",
    "llm = ChatGroq(api_key=api_key, model=\"Gemma2-9b-It\").bind_tools(tools)"
   ]
  },
  {
   "cell_type": "code",
   "execution_count": 43,
   "id": "9cae4ac7",
   "metadata": {},
   "outputs": [],
   "source": [
    "def model_call(state:AgentState):\n",
    "    system_message=SystemMessage(content='You are my ai assistant, please anser my query to the best of your ability')\n",
    "    response=llm.invoke([system_message]+state['messages'])\n",
    "    return {'messages':response}"
   ]
  },
  {
   "cell_type": "code",
   "execution_count": 44,
   "id": "1ab7569c",
   "metadata": {},
   "outputs": [],
   "source": [
    "def should_cont(state:AgentState):\n",
    "    last_message=state['messages'][-1]\n",
    "    if not last_message.tool_calls:\n",
    "        return \"end\"\n",
    "    else:\n",
    "        return \"continue\"\n",
    "    \n",
    "\n"
   ]
  },
  {
   "cell_type": "code",
   "execution_count": 45,
   "id": "ac71793f",
   "metadata": {},
   "outputs": [],
   "source": [
    "graph=StateGraph(AgentState)\n",
    "\n",
    "graph.add_node(\"our_agent\",model_call)\n",
    "\n",
    "tool_node=ToolNode(tools=tools)\n",
    "graph.add_node('tools',tool_node)\n",
    "\n",
    "graph.add_edge(START,'our_agent')\n",
    "graph.add_conditional_edges(\n",
    "    \"our_agent\",\n",
    "    should_cont,\n",
    "    {\n",
    "        \"continue\":\"tools\",\n",
    "        \"end\":END\n",
    "    },\n",
    ")\n",
    "graph.add_edge('tools','our_agent')\n",
    "\n",
    "app=graph.compile()"
   ]
  },
  {
   "cell_type": "code",
   "execution_count": 51,
   "id": "8f6fb3b0",
   "metadata": {},
   "outputs": [
    {
     "data": {
      "text/plain": [
       "{'messages': [HumanMessage(content='add 3 and 4 then multiply by 3 then subtract 4,then give me a joke', additional_kwargs={}, response_metadata={}, id='a0d62ee9-2c26-4ef3-b7a0-523130d23cb1'),\n",
       "  AIMessage(content='', additional_kwargs={'tool_calls': [{'id': 'n880kn2zv', 'function': {'arguments': '{\"a\":3,\"b\":4}', 'name': 'add'}, 'type': 'function'}]}, response_metadata={'token_usage': {'completion_tokens': 88, 'prompt_tokens': 1254, 'total_tokens': 1342, 'completion_time': 0.16, 'prompt_time': 0.023674493, 'queue_time': 0.253436147, 'total_time': 0.183674493}, 'model_name': 'Gemma2-9b-It', 'system_fingerprint': 'fp_10c08bf97d', 'service_tier': 'on_demand', 'finish_reason': 'tool_calls', 'logprobs': None}, id='run--0f90b6b8-b6b2-4260-aa6a-93076dbfdf57-0', tool_calls=[{'name': 'add', 'args': {'a': 3, 'b': 4}, 'id': 'n880kn2zv', 'type': 'tool_call'}], usage_metadata={'input_tokens': 1254, 'output_tokens': 88, 'total_tokens': 1342}),\n",
       "  ToolMessage(content='7', name='add', id='eb790979-a6ed-4326-8671-9c9bb21c5e86', tool_call_id='n880kn2zv'),\n",
       "  AIMessage(content='', additional_kwargs={'tool_calls': [{'id': '64anhc7ka', 'function': {'arguments': '{\"a\":7,\"b\":3}', 'name': 'multiply'}, 'type': 'function'}]}, response_metadata={'token_usage': {'completion_tokens': 51, 'prompt_tokens': 1331, 'total_tokens': 1382, 'completion_time': 0.092727273, 'prompt_time': 0.025296432, 'queue_time': 0.248496878, 'total_time': 0.118023705}, 'model_name': 'Gemma2-9b-It', 'system_fingerprint': 'fp_10c08bf97d', 'service_tier': 'on_demand', 'finish_reason': 'tool_calls', 'logprobs': None}, id='run--97b9ba6a-1cb1-4f2d-975a-62a5296cc82a-0', tool_calls=[{'name': 'multiply', 'args': {'a': 7, 'b': 3}, 'id': '64anhc7ka', 'type': 'tool_call'}], usage_metadata={'input_tokens': 1331, 'output_tokens': 51, 'total_tokens': 1382}),\n",
       "  ToolMessage(content='21', name='multiply', id='651dc5ce-35ad-4a79-a7eb-d2e4610a0256', tool_call_id='64anhc7ka'),\n",
       "  AIMessage(content='', additional_kwargs={'tool_calls': [{'id': 'p8c1jgvyn', 'function': {'arguments': '{\"a\":21,\"b\":4}', 'name': 'subtract'}, 'type': 'function'}]}, response_metadata={'token_usage': {'completion_tokens': 67, 'prompt_tokens': 1407, 'total_tokens': 1474, 'completion_time': 0.121818182, 'prompt_time': 0.029586467, 'queue_time': 0.250599923, 'total_time': 0.151404649}, 'model_name': 'Gemma2-9b-It', 'system_fingerprint': 'fp_10c08bf97d', 'service_tier': 'on_demand', 'finish_reason': 'tool_calls', 'logprobs': None}, id='run--51081363-b095-44d0-b584-8a7c2e4b1384-0', tool_calls=[{'name': 'subtract', 'args': {'a': 21, 'b': 4}, 'id': 'p8c1jgvyn', 'type': 'tool_call'}], usage_metadata={'input_tokens': 1407, 'output_tokens': 67, 'total_tokens': 1474}),\n",
       "  ToolMessage(content='17', name='subtract', id='4a84d2b1-30eb-468d-970a-8d656a513e86', tool_call_id='p8c1jgvyn'),\n",
       "  AIMessage(content=\"Why don't scientists trust atoms? \\n\\nBecause they make up everything! \\n\", additional_kwargs={}, response_metadata={'token_usage': {'completion_tokens': 20, 'prompt_tokens': 1486, 'total_tokens': 1506, 'completion_time': 0.036363636, 'prompt_time': 0.027976289, 'queue_time': 0.250259086, 'total_time': 0.064339925}, 'model_name': 'Gemma2-9b-It', 'system_fingerprint': 'fp_10c08bf97d', 'service_tier': 'on_demand', 'finish_reason': 'stop', 'logprobs': None}, id='run--d45c6f4c-6e85-468e-a7e6-661701539fc7-0', usage_metadata={'input_tokens': 1486, 'output_tokens': 20, 'total_tokens': 1506})]}"
      ]
     },
     "execution_count": 51,
     "metadata": {},
     "output_type": "execute_result"
    }
   ],
   "source": [
    "\n",
    "app.invoke({'messages':HumanMessage('add 3 and 4 then multiply by 3 then subtract 4,then give me a joke')})\n"
   ]
  },
  {
   "cell_type": "code",
   "execution_count": null,
   "id": "4a270451",
   "metadata": {},
   "outputs": [],
   "source": []
  }
 ],
 "metadata": {
  "kernelspec": {
   "display_name": "myenv",
   "language": "python",
   "name": "python3"
  },
  "language_info": {
   "codemirror_mode": {
    "name": "ipython",
    "version": 3
   },
   "file_extension": ".py",
   "mimetype": "text/x-python",
   "name": "python",
   "nbconvert_exporter": "python",
   "pygments_lexer": "ipython3",
   "version": "3.13.5"
  }
 },
 "nbformat": 4,
 "nbformat_minor": 5
}
