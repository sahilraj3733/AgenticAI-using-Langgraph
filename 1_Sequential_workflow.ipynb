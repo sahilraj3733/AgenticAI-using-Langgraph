{
 "cells": [
  {
   "cell_type": "code",
   "execution_count": 1,
   "id": "9360c207",
   "metadata": {},
   "outputs": [],
   "source": [
    "from typing import TypedDict\n",
    "from langgraph.graph import StateGraph,START,END"
   ]
  },
  {
   "cell_type": "code",
   "execution_count": 2,
   "id": "3992f240",
   "metadata": {},
   "outputs": [],
   "source": [
    "## step 1 Define State\n",
    "class BMIState(TypedDict):\n",
    "    weight_kg:float\n",
    "    height_met:float\n",
    "    bmi:float\n",
    "    category:str\n",
    "    \n"
   ]
  },
  {
   "cell_type": "code",
   "execution_count": 3,
   "id": "880324a8",
   "metadata": {},
   "outputs": [],
   "source": [
    "def calculate_bmi(state:BMIState):\n",
    "    weight=state['weight_kg']\n",
    "    height=state['height_met']\n",
    "    bmi=weight/(height**2)\n",
    "    return {'bmi':bmi}\n",
    "\n",
    "def calculate_category(state:BMIState):\n",
    "    bmi=state['bmi']\n",
    "    \n",
    "    if bmi < 18.5:\n",
    "        category = \"Underweight\"\n",
    "    elif 18.5 <= bmi < 25:\n",
    "        category = \"Normal\"\n",
    "    elif 25 <= bmi < 30:\n",
    "        category = \"Overweight\"\n",
    "    else:\n",
    "        category = \"Obese\"\n",
    "    return {'category':category}\n"
   ]
  },
  {
   "cell_type": "code",
   "execution_count": 4,
   "id": "db605304",
   "metadata": {},
   "outputs": [],
   "source": [
    "## Define graph\n",
    "graph=StateGraph(BMIState)\n",
    "\n",
    "## define node\n",
    "graph.add_node('calculate_bmi',calculate_bmi)\n",
    "graph.add_node('calculate_category',calculate_category)\n",
    "\n",
    "## add edge\n",
    "graph.add_edge(START,'calculate_bmi')\n",
    "graph.add_edge('calculate_bmi','calculate_category')\n",
    "graph.add_edge('calculate_category',END)\n",
    "\n",
    "\n",
    "## compile\n",
    "workflow=graph.compile()"
   ]
  },
  {
   "cell_type": "code",
   "execution_count": 10,
   "id": "6836eb98",
   "metadata": {},
   "outputs": [
    {
     "name": "stdout",
     "output_type": "stream",
     "text": [
      "{'weight_kg': 1000, 'height_met': 1.73, 'bmi': 334.1240936883959, 'category': 'Obese'}\n"
     ]
    }
   ],
   "source": [
    "init_state={'weight_kg':1000, 'height_met':1.73}\n",
    "output=workflow.invoke(init_state)\n",
    "print(output)"
   ]
  },
  {
   "cell_type": "markdown",
   "id": "7c3d1ba9",
   "metadata": {},
   "source": [
    "## Adding llm"
   ]
  },
  {
   "cell_type": "markdown",
   "id": "8cdd5699",
   "metadata": {},
   "source": [
    "### 1.Example"
   ]
  },
  {
   "cell_type": "code",
   "execution_count": 1,
   "id": "b703c7dd",
   "metadata": {},
   "outputs": [],
   "source": [
    "from langchain_groq import ChatGroq\n",
    "import os\n",
    "from dotenv import load_dotenv\n",
    "load_dotenv()\n",
    "\n",
    "groq_api=os.getenv('groq_api')"
   ]
  },
  {
   "cell_type": "code",
   "execution_count": 3,
   "id": "6a008671",
   "metadata": {},
   "outputs": [],
   "source": [
    "llm=ChatGroq(model='gemma2-9b-it',api_key=groq_api)"
   ]
  },
  {
   "cell_type": "code",
   "execution_count": 15,
   "id": "26416240",
   "metadata": {},
   "outputs": [],
   "source": [
    "class LLMState(TypedDict):\n",
    "    question:str\n",
    "    answer:str"
   ]
  },
  {
   "cell_type": "code",
   "execution_count": 16,
   "id": "705a8744",
   "metadata": {},
   "outputs": [],
   "source": [
    "def llmqa(state:LLMState):\n",
    "    question=state['question']\n",
    "    response=llm.invoke(question)\n",
    "    return {'answer':response}"
   ]
  },
  {
   "cell_type": "code",
   "execution_count": 17,
   "id": "f986621b",
   "metadata": {},
   "outputs": [],
   "source": [
    "graph=StateGraph(LLMState)\n",
    "\n",
    "graph.add_node('llm_qa',llmqa)\n",
    "\n",
    "graph.add_edge(START,'llm_qa')\n",
    "graph.add_edge('llm_qa',END)\n",
    "\n",
    "workflow=graph.compile()"
   ]
  },
  {
   "cell_type": "code",
   "execution_count": 18,
   "id": "abb7df6e",
   "metadata": {},
   "outputs": [
    {
     "data": {
      "text/plain": [
       "{'question': 'what is captial of bihar',\n",
       " 'answer': AIMessage(content='The capital of Bihar is **Patna**. \\n', additional_kwargs={}, response_metadata={'token_usage': {'completion_tokens': 13, 'prompt_tokens': 16, 'total_tokens': 29, 'completion_time': 0.023636364, 'prompt_time': 0.00124619, 'queue_time': 2.9912322749999998, 'total_time': 0.024882554}, 'model_name': 'gemma2-9b-it', 'system_fingerprint': 'fp_10c08bf97d', 'service_tier': 'on_demand', 'finish_reason': 'stop', 'logprobs': None}, id='run--bc55a537-f04f-4c58-b485-f02fc2d04405-0', usage_metadata={'input_tokens': 16, 'output_tokens': 13, 'total_tokens': 29})}"
      ]
     },
     "execution_count": 18,
     "metadata": {},
     "output_type": "execute_result"
    }
   ],
   "source": [
    "init_state={'question':'what is captial of bihar'}\n",
    "\n",
    "workflow.invoke(init_state)"
   ]
  },
  {
   "cell_type": "markdown",
   "id": "634f0776",
   "metadata": {},
   "source": [
    "### 2.Example"
   ]
  },
  {
   "cell_type": "code",
   "execution_count": 4,
   "id": "9413830a",
   "metadata": {},
   "outputs": [],
   "source": [
    "class BlogState(TypedDict):\n",
    "    topic:str\n",
    "    outline:str\n",
    "    blog:str"
   ]
  },
  {
   "cell_type": "code",
   "execution_count": 5,
   "id": "232f3a00",
   "metadata": {},
   "outputs": [],
   "source": [
    "def generate_outline(state:BlogState):\n",
    "    topic=state['topic']\n",
    "    prompt=f'Generate a detail outline for a blog on the topic of {topic}'\n",
    "\n",
    "    response=llm.invoke(prompt)\n",
    "    return {'outline':response}\n",
    "\n",
    "def generate_content(state:BlogState):\n",
    "    topic=state['topic']\n",
    "    outline=state['outline']\n",
    "    prompt=f'generate a detail blog on {topic} using this outline \\n {outline}'\n",
    "    content=llm.invoke(prompt)\n",
    "    return {'blog':content} "
   ]
  },
  {
   "cell_type": "code",
   "execution_count": 7,
   "id": "19b7dbdf",
   "metadata": {},
   "outputs": [],
   "source": [
    "graph=StateGraph(BlogState)\n",
    "\n",
    "graph.add_node('generate_outline',generate_outline)\n",
    "graph.add_node('generate_content',generate_content)\n",
    "\n",
    "graph.add_edge(START,'generate_outline')\n",
    "graph.add_edge('generate_outline','generate_content')\n",
    "graph.add_edge('generate_content',END)\n",
    "workflow=graph.compile()"
   ]
  },
  {
   "cell_type": "code",
   "execution_count": 8,
   "id": "57dd2581",
   "metadata": {},
   "outputs": [
    {
     "name": "stdout",
     "output_type": "stream",
     "text": [
      "{'topic': 'WWE in India', 'outline': AIMessage(content='## WWE in India: From VHS Tapes to Mainstream Mania \\n\\n**I. Introduction**\\n\\n* Hook: Anecdote about a personal experience with WWE in India (e.g., watching a VHS tape with friends, the excitement of a live event)\\n* Briefly introduce WWE as a global phenomenon\\n* Thesis statement:  WWE has evolved from a niche interest to a mainstream entertainment force in India, captivating audiences with its blend of athleticism, storytelling, and larger-than-life characters.\\n\\n**II. The Early Days: VHS Tapes and Underground Fandom**\\n\\n* Discuss the introduction of WWE to India through VHS tapes in the 80s and 90s\\n* Highlight the impact of legendary wrestlers like Hulk Hogan and The Undertaker on Indian audiences\\n*  Describe the emergence of underground fan communities and the creation of fan-made content (e.g., posters, magazines, forums)\\n* Mention the challenges of accessing WWE content legally in those days\\n\\n**III.  The Rise of Television and Cable Access**\\n\\n* Explain the turning point with the arrival of dedicated sports channels broadcasting WWE\\n* Discuss the growing popularity of WWE in India with increased accessibility\\n* Highlight key events and storylines that resonated with Indian fans\\n*  Mention the emergence of Indian wrestlers like The Great Khali and Jinder Mahal\\n\\n**IV.  The Digital Era: A New Chapter for WWE in India**\\n\\n* Explore the impact of streaming platforms like Sony LIV and WWE Network on viewership\\n* Discuss the globalized nature of WWE content and its appeal to a younger generation\\n* Highlight the growing presence of WWE on social media platforms in India\\n*  Mention the rise of Indian wrestling stars in WWE, including Indus Sher and Veer Mahaan\\n\\n**V.  Cultural Impact and Fan Engagement**\\n\\n* Analyze how WWE has influenced Indian pop culture (e.g., music, fashion, language)\\n* Discuss the passionate fan community in India and their active participation in events and online spaces\\n* Explore the impact of WWE on promoting physical fitness and athleticism\\n*  Mention the role of WWE in bridging cultural divides through shared entertainment\\n\\n**VI.  Future Prospects: Expanding the WWE Universe in India**\\n\\n* Discuss the potential for further growth of WWE in India with a growing middle class and increasing access to technology\\n* Suggest ways to further engage the Indian audience, such as hosting more live events and featuring more Indian talent\\n* Highlight the importance of localizing content and understanding the cultural nuances of the Indian market\\n\\n\\n**VII. Conclusion**\\n\\n*  Summarize the journey of WWE in India from a niche interest to a mainstream phenomenon\\n*  Reiterate the thesis statement\\n*  Leave the reader with a thought-provoking question about the future of WWE in India\\n\\n**Additional elements:**\\n\\n*  Include relevant images and videos to enhance the blog post.\\n*  Use personal anecdotes and experiences to connect with the reader.\\n*  Incorporate quotes from WWE superstars and Indian fans.\\n*  Promote your blog post on social media and engage with your audience.\\n\\n\\n\\n', additional_kwargs={}, response_metadata={'token_usage': {'completion_tokens': 628, 'prompt_tokens': 23, 'total_tokens': 651, 'completion_time': 1.141818182, 'prompt_time': 0.001324331, 'queue_time': 0.248081989, 'total_time': 1.143142513}, 'model_name': 'gemma2-9b-it', 'system_fingerprint': 'fp_10c08bf97d', 'service_tier': 'on_demand', 'finish_reason': 'stop', 'logprobs': None}, id='run--2cff96d9-7faa-4ddc-b0af-10ca0e95e5dc-0', usage_metadata={'input_tokens': 23, 'output_tokens': 628, 'total_tokens': 651}), 'blog': AIMessage(content='## WWE in India: From VHS Tapes to Mainstream Mania \\n\\nThe grainy image flickered on the TV screen, sunlight slicing through the dusty window, illuminating a scene of chaos and athleticism. Hulk Hogan, muscles bulging, slammed Andre the Giant with a thunderous body slam. My friends and I, huddled together on the worn floor, erupted in cheers. That afternoon, watching a bootleg VHS tape of WrestleMania III, we weren\\'t just watching a wrestling match; we were transported to a world of larger-than-life heroes, epic villains, and electrifying action. This was our introduction to WWE, a global phenomenon that would soon capture the hearts and imaginations of millions in India.\\n\\nFrom its humble beginnings as a niche interest fueled by smuggled VHS tapes to its current status as a mainstream entertainment force, WWE\\'s journey in India is a fascinating story of cultural evolution and fan dedication. WWE has become more than just wrestling; it\\'s a cultural touchstone, a source of entertainment, and a platform for athleticism and storytelling that transcends borders.\\n\\n**The Early Days: VHS Tapes and Underground Fandom**\\n\\nThe first whispers of WWE reached India in the 1980s and 90s through the clandestine circulation of VHS tapes. The iconic figures of Hulk Hogan, \"Macho Man\" Randy Savage, and The Undertaker became legendary figures in our living rooms, their larger-than-life personas captivating audiences who craved action and escapism. \\n\\nThese pirated tapes were treasures, passed from hand to hand, and viewed in hushed reverence. They ignited a passionate underground fandom, with fans creating their own posters, magazines, and even fan websites to discuss their favorite wrestlers and storylines. The WWE Universe in India was born, fueled by a shared love for the spectacle and drama of pro wrestling. \\n\\nAccess to WWE content was limited, and the thrill came from the forbidden, the excitement of watching something considered \"outsider\" entertainment. Local cable channels rarely aired WWE programming, leaving fans hungry for more.\\n\\n**The Rise of Television and Cable Access**\\n\\nThe landscape changed dramatically in the early 2000s with the arrival of dedicated sports channels like Ten Action and Star Sports. WWE programming finally gained mainstream visibility, broadcasting live events and weekly shows, making it easily accessible to a wider audience. \\n\\nSuddenly, WWE was everywhere.  Wrestlers like The Great Khali, the first Indian superstar to make a significant impact in WWE, became national icons, their victories a source of pride for the entire country. Jinder Mahal, another Indian wrestler, later became WWE Champion, further cementing the growing connection between WWE and India.\\n\\n**The Digital Era: A New Chapter for WWE in India**\\n\\nThe digital revolution ushered in a new era for WWE in India. Streaming platforms like Sony LIV and the WWE Network provided viewers with on-demand access to a vast library of content, ensuring that fans could catch up on their favorite shows, relive classic matches, and stay connected to the WWE Universe 24/7. \\n\\nSocial media platforms became crucial in engaging with fans, fostering online communities, and creating a sense of global connection. WWE stars actively interacted with Indian fans, sharing updates, responding to questions, and even learning a few Hindi phrases.\\n\\nThe rise of new Indian wrestling stars, like Indus Sher and Veer Mahaan, further solidified WWE\\'s presence in the country. These wrestlers brought a fresh perspective to the WWE Universe, showcasing Indian talent and culture on a global stage.\\n\\n\\n**Cultural Impact and Fan Engagement**\\n\\nWWE\\'s influence extends far beyond the wrestling ring. Its larger-than-life characters, dramatic storylines, and high-octane action have seeped into Indian pop culture, inspiring music, fashion, and even language. \\n\\nWWE fans in India are a passionate and vocal bunch, actively participating in online forums, creating fan art, and attending live events with unwavering energy. The WWE Universe in India is a testament to the power of shared entertainment, bringing people together from all walks of life.\\n\\n**Future Prospects: Expanding the WWE Universe in India**\\n\\nWith a growing middle class and increasing access to technology, the future of WWE in India looks brighter than ever. The potential for further growth is immense. Hosting more live events, featuring more Indian talent, and further localizing content to resonate with the Indian audience are key strategies for expanding the WWE Universe in India. \\n\\nWWE has already made significant strides in connecting with Indian fans, and by embracing cultural nuances and fostering a deeper understanding of the Indian market, WWE can solidify its position as a true entertainment powerhouse in the country.\\n\\n**Conclusion**\\n\\nFrom dusty VHS tapes to mainstream television and the digital age, WWE\\'s journey in India has been nothing short of remarkable. It has evolved from a niche interest to a cultural phenomenon, captivating audiences with its blend of athleticism, storytelling, and larger-than-life characters. \\n\\nAs the WWE Universe continues to grow in India, one question remains: what new heights will this extraordinary journey reach in the years to come? \\n\\n\\n', additional_kwargs={}, response_metadata={'token_usage': {'completion_tokens': 1038, 'prompt_tokens': 957, 'total_tokens': 1995, 'completion_time': 1.887272727, 'prompt_time': 0.020519201, 'queue_time': 0.256332279, 'total_time': 1.907791928}, 'model_name': 'gemma2-9b-it', 'system_fingerprint': 'fp_10c08bf97d', 'service_tier': 'on_demand', 'finish_reason': 'stop', 'logprobs': None}, id='run--a6033591-9ff3-45b1-a57b-a3769cffa272-0', usage_metadata={'input_tokens': 957, 'output_tokens': 1038, 'total_tokens': 1995})}\n"
     ]
    }
   ],
   "source": [
    "init_state={'topic':'WWE in India'}\n",
    "output=workflow.invoke(init_state)\n",
    "print(output)"
   ]
  },
  {
   "cell_type": "code",
   "execution_count": 9,
   "id": "05d9d66a",
   "metadata": {},
   "outputs": [
    {
     "name": "stdout",
     "output_type": "stream",
     "text": [
      "content='## WWE in India: From VHS Tapes to Mainstream Mania \\n\\n**I. Introduction**\\n\\n* Hook: Anecdote about a personal experience with WWE in India (e.g., watching a VHS tape with friends, the excitement of a live event)\\n* Briefly introduce WWE as a global phenomenon\\n* Thesis statement:  WWE has evolved from a niche interest to a mainstream entertainment force in India, captivating audiences with its blend of athleticism, storytelling, and larger-than-life characters.\\n\\n**II. The Early Days: VHS Tapes and Underground Fandom**\\n\\n* Discuss the introduction of WWE to India through VHS tapes in the 80s and 90s\\n* Highlight the impact of legendary wrestlers like Hulk Hogan and The Undertaker on Indian audiences\\n*  Describe the emergence of underground fan communities and the creation of fan-made content (e.g., posters, magazines, forums)\\n* Mention the challenges of accessing WWE content legally in those days\\n\\n**III.  The Rise of Television and Cable Access**\\n\\n* Explain the turning point with the arrival of dedicated sports channels broadcasting WWE\\n* Discuss the growing popularity of WWE in India with increased accessibility\\n* Highlight key events and storylines that resonated with Indian fans\\n*  Mention the emergence of Indian wrestlers like The Great Khali and Jinder Mahal\\n\\n**IV.  The Digital Era: A New Chapter for WWE in India**\\n\\n* Explore the impact of streaming platforms like Sony LIV and WWE Network on viewership\\n* Discuss the globalized nature of WWE content and its appeal to a younger generation\\n* Highlight the growing presence of WWE on social media platforms in India\\n*  Mention the rise of Indian wrestling stars in WWE, including Indus Sher and Veer Mahaan\\n\\n**V.  Cultural Impact and Fan Engagement**\\n\\n* Analyze how WWE has influenced Indian pop culture (e.g., music, fashion, language)\\n* Discuss the passionate fan community in India and their active participation in events and online spaces\\n* Explore the impact of WWE on promoting physical fitness and athleticism\\n*  Mention the role of WWE in bridging cultural divides through shared entertainment\\n\\n**VI.  Future Prospects: Expanding the WWE Universe in India**\\n\\n* Discuss the potential for further growth of WWE in India with a growing middle class and increasing access to technology\\n* Suggest ways to further engage the Indian audience, such as hosting more live events and featuring more Indian talent\\n* Highlight the importance of localizing content and understanding the cultural nuances of the Indian market\\n\\n\\n**VII. Conclusion**\\n\\n*  Summarize the journey of WWE in India from a niche interest to a mainstream phenomenon\\n*  Reiterate the thesis statement\\n*  Leave the reader with a thought-provoking question about the future of WWE in India\\n\\n**Additional elements:**\\n\\n*  Include relevant images and videos to enhance the blog post.\\n*  Use personal anecdotes and experiences to connect with the reader.\\n*  Incorporate quotes from WWE superstars and Indian fans.\\n*  Promote your blog post on social media and engage with your audience.\\n\\n\\n\\n' additional_kwargs={} response_metadata={'token_usage': {'completion_tokens': 628, 'prompt_tokens': 23, 'total_tokens': 651, 'completion_time': 1.141818182, 'prompt_time': 0.001324331, 'queue_time': 0.248081989, 'total_time': 1.143142513}, 'model_name': 'gemma2-9b-it', 'system_fingerprint': 'fp_10c08bf97d', 'service_tier': 'on_demand', 'finish_reason': 'stop', 'logprobs': None} id='run--2cff96d9-7faa-4ddc-b0af-10ca0e95e5dc-0' usage_metadata={'input_tokens': 23, 'output_tokens': 628, 'total_tokens': 651}\n"
     ]
    }
   ],
   "source": [
    "print(output['outline'])"
   ]
  },
  {
   "cell_type": "code",
   "execution_count": 10,
   "id": "1c0f6ab4",
   "metadata": {},
   "outputs": [
    {
     "name": "stdout",
     "output_type": "stream",
     "text": [
      "content='## WWE in India: From VHS Tapes to Mainstream Mania \\n\\nThe grainy image flickered on the TV screen, sunlight slicing through the dusty window, illuminating a scene of chaos and athleticism. Hulk Hogan, muscles bulging, slammed Andre the Giant with a thunderous body slam. My friends and I, huddled together on the worn floor, erupted in cheers. That afternoon, watching a bootleg VHS tape of WrestleMania III, we weren\\'t just watching a wrestling match; we were transported to a world of larger-than-life heroes, epic villains, and electrifying action. This was our introduction to WWE, a global phenomenon that would soon capture the hearts and imaginations of millions in India.\\n\\nFrom its humble beginnings as a niche interest fueled by smuggled VHS tapes to its current status as a mainstream entertainment force, WWE\\'s journey in India is a fascinating story of cultural evolution and fan dedication. WWE has become more than just wrestling; it\\'s a cultural touchstone, a source of entertainment, and a platform for athleticism and storytelling that transcends borders.\\n\\n**The Early Days: VHS Tapes and Underground Fandom**\\n\\nThe first whispers of WWE reached India in the 1980s and 90s through the clandestine circulation of VHS tapes. The iconic figures of Hulk Hogan, \"Macho Man\" Randy Savage, and The Undertaker became legendary figures in our living rooms, their larger-than-life personas captivating audiences who craved action and escapism. \\n\\nThese pirated tapes were treasures, passed from hand to hand, and viewed in hushed reverence. They ignited a passionate underground fandom, with fans creating their own posters, magazines, and even fan websites to discuss their favorite wrestlers and storylines. The WWE Universe in India was born, fueled by a shared love for the spectacle and drama of pro wrestling. \\n\\nAccess to WWE content was limited, and the thrill came from the forbidden, the excitement of watching something considered \"outsider\" entertainment. Local cable channels rarely aired WWE programming, leaving fans hungry for more.\\n\\n**The Rise of Television and Cable Access**\\n\\nThe landscape changed dramatically in the early 2000s with the arrival of dedicated sports channels like Ten Action and Star Sports. WWE programming finally gained mainstream visibility, broadcasting live events and weekly shows, making it easily accessible to a wider audience. \\n\\nSuddenly, WWE was everywhere.  Wrestlers like The Great Khali, the first Indian superstar to make a significant impact in WWE, became national icons, their victories a source of pride for the entire country. Jinder Mahal, another Indian wrestler, later became WWE Champion, further cementing the growing connection between WWE and India.\\n\\n**The Digital Era: A New Chapter for WWE in India**\\n\\nThe digital revolution ushered in a new era for WWE in India. Streaming platforms like Sony LIV and the WWE Network provided viewers with on-demand access to a vast library of content, ensuring that fans could catch up on their favorite shows, relive classic matches, and stay connected to the WWE Universe 24/7. \\n\\nSocial media platforms became crucial in engaging with fans, fostering online communities, and creating a sense of global connection. WWE stars actively interacted with Indian fans, sharing updates, responding to questions, and even learning a few Hindi phrases.\\n\\nThe rise of new Indian wrestling stars, like Indus Sher and Veer Mahaan, further solidified WWE\\'s presence in the country. These wrestlers brought a fresh perspective to the WWE Universe, showcasing Indian talent and culture on a global stage.\\n\\n\\n**Cultural Impact and Fan Engagement**\\n\\nWWE\\'s influence extends far beyond the wrestling ring. Its larger-than-life characters, dramatic storylines, and high-octane action have seeped into Indian pop culture, inspiring music, fashion, and even language. \\n\\nWWE fans in India are a passionate and vocal bunch, actively participating in online forums, creating fan art, and attending live events with unwavering energy. The WWE Universe in India is a testament to the power of shared entertainment, bringing people together from all walks of life.\\n\\n**Future Prospects: Expanding the WWE Universe in India**\\n\\nWith a growing middle class and increasing access to technology, the future of WWE in India looks brighter than ever. The potential for further growth is immense. Hosting more live events, featuring more Indian talent, and further localizing content to resonate with the Indian audience are key strategies for expanding the WWE Universe in India. \\n\\nWWE has already made significant strides in connecting with Indian fans, and by embracing cultural nuances and fostering a deeper understanding of the Indian market, WWE can solidify its position as a true entertainment powerhouse in the country.\\n\\n**Conclusion**\\n\\nFrom dusty VHS tapes to mainstream television and the digital age, WWE\\'s journey in India has been nothing short of remarkable. It has evolved from a niche interest to a cultural phenomenon, captivating audiences with its blend of athleticism, storytelling, and larger-than-life characters. \\n\\nAs the WWE Universe continues to grow in India, one question remains: what new heights will this extraordinary journey reach in the years to come? \\n\\n\\n' additional_kwargs={} response_metadata={'token_usage': {'completion_tokens': 1038, 'prompt_tokens': 957, 'total_tokens': 1995, 'completion_time': 1.887272727, 'prompt_time': 0.020519201, 'queue_time': 0.256332279, 'total_time': 1.907791928}, 'model_name': 'gemma2-9b-it', 'system_fingerprint': 'fp_10c08bf97d', 'service_tier': 'on_demand', 'finish_reason': 'stop', 'logprobs': None} id='run--a6033591-9ff3-45b1-a57b-a3769cffa272-0' usage_metadata={'input_tokens': 957, 'output_tokens': 1038, 'total_tokens': 1995}\n"
     ]
    }
   ],
   "source": [
    "print(output['blog'])"
   ]
  },
  {
   "cell_type": "code",
   "execution_count": null,
   "id": "78d02512",
   "metadata": {},
   "outputs": [],
   "source": []
  }
 ],
 "metadata": {
  "kernelspec": {
   "display_name": "myenv",
   "language": "python",
   "name": "python3"
  },
  "language_info": {
   "codemirror_mode": {
    "name": "ipython",
    "version": 3
   },
   "file_extension": ".py",
   "mimetype": "text/x-python",
   "name": "python",
   "nbconvert_exporter": "python",
   "pygments_lexer": "ipython3",
   "version": "3.13.5"
  }
 },
 "nbformat": 4,
 "nbformat_minor": 5
}
